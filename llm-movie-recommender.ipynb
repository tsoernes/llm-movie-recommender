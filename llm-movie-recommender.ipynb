{
 "cells": [
  {
   "cell_type": "markdown",
   "id": "9b07a1d3-9bbf-402e-8634-3acb96e60d20",
   "metadata": {},
   "source": [
    "# llm-movie-recommender"
   ]
  },
  {
   "cell_type": "markdown",
   "id": "0f048738-3075-479e-9570-de8d8cff9098",
   "metadata": {},
   "source": [
    "Denne notebooken demonstrerer bruk av en språkmodel (Language Model - LM) og en vektordatabase for anbefaling av filmer."
   ]
  },
  {
   "cell_type": "markdown",
   "id": "741be138-3bed-4b9a-80fb-0628829116f5",
   "metadata": {},
   "source": [
    "Denne metoden løser det såkalte \"cold start\" problemet for anbefalings-anbefalingsalgoritmer, hvor det ikke finnes\n",
    "data fra brukeren av systemet eller data fra andre brukere av systemet til å gi anbefalinger.\n",
    "\n",
    "I tilfellet hvor det finnes data på hvilke brukere som foretrekker hvilke filmer, er det enklere å lage en anbefalingsalgoritme.\n",
    "Der er det mulig å bruke denne dataen til å gi anbefalinger - for eksempel, blandt alle brukere som har gitt høy vurdering (rating)\n",
    "for \"Star Wars\", er det også gitt høy rating for \"Back to The Future\".\n",
    "\n",
    "I stedet, kan vi bruke en språkmodell til å finne film-anbefalinger basert på hvor likt sammendraget av filmen er, og basert på hvor ofte\n",
    "navnet på filmen forekommer i samme kontekst som andre filmer.\n",
    "\n",
    "Denne anbefalingsalgoritmen er egentlig en clustering-metode. Datasettet består av unlabelled data - informasjon om filmer, uten informasjon\n",
    "om hvilke filmer som er like eller hvilke brukere som like hvilke filmer. En clustering-algoritme gir informasjon om hvor like filmer er hverandre,\n",
    "og kan dermed bruker til å gi anbefalinger mer. For eksempel kan vi forvente (håpe) på at filmer som handler å reise i tid ved hjelp av tidsmaskiner\n",
    "ligger i samme kluster - det vil si at cluster-algoritmen mener disse filmene har en likhet med hverandre."
   ]
  },
  {
   "cell_type": "markdown",
   "id": "fe88bb15-59be-4330-8c91-a65a0bfd4fd2",
   "metadata": {},
   "source": [
    "La oss først begynne med å hente filmdata fra den åpne databasen TMDb.\n",
    "\n",
    "Dette er veldig rett fram. Vi henter informasjon om alle tilgjendelige filmer som har 1000 brukervurderinger eller mer. "
   ]
  },
  {
   "cell_type": "code",
   "execution_count": 13,
   "id": "9175537e-fe92-4adf-bcff-71e6fdeadafb",
   "metadata": {},
   "outputs": [],
   "source": [
    "from config import TMDB_API_KEY\n",
    "import requests\n",
    "\n",
    "tmdb_url = \"https://api.themoviedb.org/3\"\n",
    "\n",
    "def fetch_top_rated_movies(min_votes: int = 1_000) -> list[dict]:\n",
    "    \"\"\"\n",
    "    Fetch top rated movies from themoviedb\n",
    "\n",
    "    Parameters\n",
    "    ----------\n",
    "    min_votes\n",
    "        Only fetch movies that have this number of votes or more\n",
    "\n",
    "    Returns\n",
    "    -------\n",
    "    A list of movies, each movie in a dictionary\n",
    "    \"\"\"\n",
    "    # Set the API endpoint and parameters\n",
    "    url = tmdb_url + \"/discover/movie\"\n",
    "\n",
    "    # Fetch movies page by page until there are no more\n",
    "    movies = []\n",
    "    i = 1\n",
    "    while True:\n",
    "        params = {\n",
    "            \"api_key\": TMDB_API_KEY,\n",
    "            \"sort_by\": \"vote_average.desc\",\n",
    "            \"vote_count.gte\": min_votes,\n",
    "            \"page\": i,\n",
    "        }\n",
    "\n",
    "        # Send a GET request to the API and raise an exception if it fails\n",
    "        response = requests.get(url, params=params)\n",
    "        response.raise_for_status()\n",
    "\n",
    "        # Extract the movie data from the response\n",
    "        movies_ = response.json()[\"results\"]\n",
    "        if not movies_:\n",
    "            break\n",
    "        movies.extend(movies_)\n",
    "        i += 1\n",
    "\n",
    "    return movies\n"
   ]
  },
  {
   "cell_type": "code",
   "execution_count": 15,
   "id": "8b97de22-a039-4e1f-821d-3c4f7d700996",
   "metadata": {},
   "outputs": [],
   "source": [
    "movies = fetch_top_rated_movies()"
   ]
  },
  {
   "cell_type": "markdown",
   "id": "577d4585-8d23-4c59-b5ea-9c5213786583",
   "metadata": {},
   "source": [
    "API-et returnerer grunnleggende informasjon om filmene. Av interesse her er tittel, sjanger, år, og sammendrag.\n"
   ]
  },
  {
   "cell_type": "code",
   "execution_count": 18,
   "id": "3523d97f-27e9-441c-b9e1-9c70ea50e1a8",
   "metadata": {},
   "outputs": [
    {
     "name": "stdout",
     "output_type": "stream",
     "text": [
      "{'adult': False, 'backdrop_path': '/zfbjgQE1uSd9wiPTX4VzsLi0rGG.jpg', 'genre_ids': [18, 80], 'id': 278, 'original_language': 'en', 'original_title': 'The Shawshank Redemption', 'overview': 'Imprisoned in the 1940s for the double murder of his wife and her lover, upstanding banker Andy Dufresne begins a new life at the Shawshank prison, where he puts his accounting skills to work for an amoral warden. During his long stretch in prison, Dufresne comes to be admired by the other inmates -- including an older prisoner named Red -- for his integrity and unquenchable sense of hope.', 'popularity': 121.768, 'poster_path': '/9cqNxx0GxF0bflZmeSMuL5tnGzr.jpg', 'release_date': '1994-09-23', 'title': 'The Shawshank Redemption', 'video': False, 'vote_average': 8.7, 'vote_count': 26258}\n"
     ]
    }
   ],
   "source": [
    "print(movies[0])"
   ]
  },
  {
   "cell_type": "markdown",
   "id": "4246603e-794b-4d34-a8a2-7c9a9bdf7cc0",
   "metadata": {},
   "source": [
    "\n",
    "Her er følgende av interesse:\n",
    "- Tittel\n",
    "      Filmer med \"lik\" tittel kan være verdt en anbefaling. \n",
    "- Filmsjanger\n",
    "- Sammendrag"
   ]
  },
  {
   "cell_type": "markdown",
   "id": "7990bce4-7385-4c43-bb52-b6418bc3ec69",
   "metadata": {},
   "source": [
    "Vi samler denne informasjonen i en dataframe for enklere og raskere prosessering.\n",
    "Vi bruker `polars` som et raskere og mer moderne alternativ til `pandas` selv om det har lite å bety i denne sammenheng\n",
    "siden datasettet er så lite.\n",
    "\n",
    "Først henter vi filmsjangernavn fra API-et og bruker disse istedet for filmsjanger-ID'er.\n",
    "\n",
    "Deretter samler vi informasjonen vi ønsker å bruke til å sammenligne i en kolonne (\"text\") - nemlig  tittel, år, sammendrag og sjangere."
   ]
  },
  {
   "cell_type": "code",
   "execution_count": 21,
   "id": "0310eb1c-a448-461a-9be1-008a98bca627",
   "metadata": {},
   "outputs": [],
   "source": [
    "import polars as pl\n",
    "from functools import lru_cache\n",
    "\n",
    "@lru_cache\n",
    "def get_id_to_genre() -> dict[int, str]:\n",
    "    \"\"\"Return a mapping from genre id to genre name\"\"\"\n",
    "    # Fetch genre names\n",
    "    url = tmdb_url + \"/genre/movie/list\"\n",
    "    params = {\"api_key\": TMDB_API_KEY}\n",
    "    response = requests.get(url, params=params)\n",
    "    response.raise_for_status()\n",
    "    id_and_genre = response.json()[\"genres\"]\n",
    "\n",
    "    # Map genre ids to genre names\n",
    "    id_to_genre = {x[\"id\"]: x[\"name\"] for x in id_and_genre}\n",
    "\n",
    "    return id_to_genre\n",
    "\n",
    "\n",
    "def prep_movies(movies: list[dict]) -> pl.DataFrame:\n",
    "    \"\"\"\n",
    "    Prepare movie data for embedding\n",
    "\n",
    "    Attributes\n",
    "    ----------\n",
    "    movies\n",
    "        List of movies\n",
    "\n",
    "    Returns\n",
    "    -------\n",
    "    polars.DataFrame\n",
    "    \"\"\"\n",
    "    # Create a Polars DataFrame from the movie data\n",
    "    df = pl.DataFrame(movies)\n",
    "\n",
    "    id_to_genre = get_id_to_genre()\n",
    "    # Add genre names from genre ids\n",
    "    df_genres = df[\"genre_ids\"].map_elements(\n",
    "        lambda li: [id_to_genre[id_] for id_ in li], return_dtype=pl.List(pl.String)\n",
    "    )\n",
    "    df = df.with_columns(df_genres.alias(\"genres\"))\n",
    "\n",
    "    # Extract year from release date\n",
    "    df = df.with_columns(df[\"release_date\"].str.head(4).alias(\"year\"))\n",
    "\n",
    "    # Merge all information into a single text column\n",
    "    text = (\n",
    "        \"Movie title: \"\n",
    "        + df[\"title\"]\n",
    "        + \"\\nYear: \"\n",
    "        + df[\"year\"]\n",
    "        + \"\\nOverview: \"\n",
    "        + df[\"overview\"]\n",
    "        + \"\\nGenres: \"\n",
    "        + df[\"genres\"].list.join(\", \")\n",
    "    )\n",
    "    df = df.with_columns(text.alias(\"text\"))\n",
    "\n",
    "    # Drop unecessary columns\n",
    "    df = df[[\"id\", \"title\", \"year\", \"overview\", \"genres\", \"text\"]]\n",
    "    return df"
   ]
  },
  {
   "cell_type": "code",
   "execution_count": 23,
   "id": "95ec83f1-e238-41a4-8d16-202e842fdc51",
   "metadata": {},
   "outputs": [],
   "source": [
    "df = prep_movies(movies)"
   ]
  },
  {
   "cell_type": "code",
   "execution_count": 26,
   "id": "ecb7c373-01ed-46fa-a2fd-a1c461935d73",
   "metadata": {},
   "outputs": [
    {
     "data": {
      "text/html": [
       "<div><style>\n",
       ".dataframe > thead > tr,\n",
       ".dataframe > tbody > tr {\n",
       "  text-align: right;\n",
       "  white-space: pre-wrap;\n",
       "}\n",
       "</style>\n",
       "<small>shape: (1, 6)</small><table border=\"1\" class=\"dataframe\"><thead><tr><th>id</th><th>title</th><th>year</th><th>overview</th><th>genres</th><th>text</th></tr><tr><td>i64</td><td>str</td><td>str</td><td>str</td><td>list[str]</td><td>str</td></tr></thead><tbody><tr><td>278</td><td>&quot;The Shawshank …</td><td>&quot;1994&quot;</td><td>&quot;Imprisoned in …</td><td>[&quot;Drama&quot;, &quot;Crime&quot;]</td><td>&quot;Movie title: T…</td></tr></tbody></table></div>"
      ],
      "text/plain": [
       "shape: (1, 6)\n",
       "┌─────┬───────────────┬──────┬───────────────────┬────────────────────┬────────────────────────────┐\n",
       "│ id  ┆ title         ┆ year ┆ overview          ┆ genres             ┆ text                       │\n",
       "│ --- ┆ ---           ┆ ---  ┆ ---               ┆ ---                ┆ ---                        │\n",
       "│ i64 ┆ str           ┆ str  ┆ str               ┆ list[str]          ┆ str                        │\n",
       "╞═════╪═══════════════╪══════╪═══════════════════╪════════════════════╪════════════════════════════╡\n",
       "│ 278 ┆ The Shawshank ┆ 1994 ┆ Imprisoned in the ┆ [\"Drama\", \"Crime\"] ┆ Movie title: The Shawshank │\n",
       "│     ┆ Redemption    ┆      ┆ 1940s for the …   ┆                    ┆ Redem…                     │\n",
       "└─────┴───────────────┴──────┴───────────────────┴────────────────────┴────────────────────────────┘"
      ]
     },
     "execution_count": 26,
     "metadata": {},
     "output_type": "execute_result"
    }
   ],
   "source": [
    "df.head(1)"
   ]
  },
  {
   "cell_type": "markdown",
   "id": "5ea33b0d-248a-4dab-af8a-c6f2f1a9f5b4",
   "metadata": {},
   "source": [
    "Dette gir følgende tekst for filmen. Det er denne teksten vi skal bruke i vektordatabasen til å finne lignende filmer."
   ]
  },
  {
   "cell_type": "code",
   "execution_count": 28,
   "id": "6b2c4172-3790-47d7-99cc-719da1a45b23",
   "metadata": {},
   "outputs": [
    {
     "name": "stdout",
     "output_type": "stream",
     "text": [
      "Movie title: The Shawshank Redemption\n",
      "Year: 1994\n",
      "Overview: Imprisoned in the 1940s for the double murder of his wife and her lover, upstanding banker Andy Dufresne begins a new life at the Shawshank prison, where he puts his accounting skills to work for an amoral warden. During his long stretch in prison, Dufresne comes to be admired by the other inmates -- including an older prisoner named Red -- for his integrity and unquenchable sense of hope.\n",
      "Genres: Drama, Crime\n"
     ]
    }
   ],
   "source": [
    "print(df[0, \"text\"])"
   ]
  },
  {
   "cell_type": "code",
   "execution_count": null,
   "id": "799f21e5-e748-409b-9db1-7c1764be39d4",
   "metadata": {},
   "outputs": [],
   "source": [
    "Andre eksempler hvor bruker av LM og vektordatabase kan være nyttig for å finne like items (for eksemepel dokumenter)"
   ]
  }
 ],
 "metadata": {
  "kernelspec": {
   "display_name": "Python 3 (ipykernel)",
   "language": "python",
   "name": "python3"
  },
  "language_info": {
   "codemirror_mode": {
    "name": "ipython",
    "version": 3
   },
   "file_extension": ".py",
   "mimetype": "text/x-python",
   "name": "python",
   "nbconvert_exporter": "python",
   "pygments_lexer": "ipython3",
   "version": "3.12.3"
  }
 },
 "nbformat": 4,
 "nbformat_minor": 5
}
