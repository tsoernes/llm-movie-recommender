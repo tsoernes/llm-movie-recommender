{
 "cells": [
  {
   "cell_type": "markdown",
   "id": "9b07a1d3-9bbf-402e-8634-3acb96e60d20",
   "metadata": {},
   "source": [
    "# llm-movie-recommender"
   ]
  },
  {
   "cell_type": "markdown",
   "id": "0f048738-3075-479e-9570-de8d8cff9098",
   "metadata": {},
   "source": [
    "Denne notebooken demonstrerer bruk av en språkmodel (Language Model - LM) og en vektordatabase for anbefaling av filmer."
   ]
  },
  {
   "cell_type": "markdown",
   "id": "741be138-3bed-4b9a-80fb-0628829116f5",
   "metadata": {},
   "source": [
    "Denne metoden løser det såkalte \"cold start\" problemet for anbefalings-anbefalingsalgoritmer, hvor det ikke finnes\n",
    "data fra brukeren av systemet eller data fra andre brukere av systemet til å gi anbefalinger.\n",
    "\n",
    "I tilfellet hvor det finnes data på hvilke brukere som foretrekker hvilke filmer, er det enklere å lage en anbefalingsalgoritme.\n",
    "Der er det mulig å bruke denne dataen til å gi anbefalinger - for eksempel, blandt alle brukere som har gitt høy vurdering (rating)\n",
    "for \"Star Wars\", er det også gitt høy rating for \"Back to The Future\".\n",
    "\n",
    "I stedet, kan vi bruke en språkmodell til å finne film-anbefalinger basert på hvor likt sammendraget av filmen er, og basert på hvor ofte\n",
    "navnet på filmen forekommer i samme kontekst som andre filmer.\n",
    "\n",
    "Denne anbefalingsalgoritmen er egentlig en clustering-metode. Datasettet består av unlabelled data - informasjon om filmer, uten informasjon\n",
    "om hvilke filmer som er like eller hvilke brukere som like hvilke filmer. En clustering-algoritme gir informasjon om hvor like filmer er hverandre,\n",
    "og kan dermed bruker til å gi anbefalinger mer. For eksempel kan vi forvente (håpe) på at filmer som handler å reise i tid ved hjelp av tidsmaskiner\n",
    "ligger i samme kluster - det vil si at cluster-algoritmen mener disse filmene har en likhet med hverandre."
   ]
  },
  {
   "cell_type": "markdown",
   "id": "fe88bb15-59be-4330-8c91-a65a0bfd4fd2",
   "metadata": {},
   "source": [
    "La oss først begynne med å hente filmdata fra den åpne filmdatabasen TMDb ved å bruke API-et.\n",
    "\n",
    "Dette er veldig rett fram. Vi henter informasjon om alle tilgjengelige filmer som har 1000 brukervurderinger eller mer. "
   ]
  },
  {
   "cell_type": "code",
   "execution_count": null,
   "id": "9175537e-fe92-4adf-bcff-71e6fdeadafb",
   "metadata": {},
   "outputs": [],
   "source": [
    "from config import TMDB_API_KEY\n",
    "import requests\n",
    "\n",
    "tmdb_url = \"https://api.themoviedb.org/3\"\n",
    "\n",
    "def fetch_top_rated_movies(min_votes: int = 1_000) -> list[dict]:\n",
    "    \"\"\"\n",
    "    Fetch top rated movies from themoviedb\n",
    "\n",
    "    Parameters\n",
    "    ----------\n",
    "    min_votes\n",
    "        Only fetch movies that have this number of votes or more\n",
    "\n",
    "    Returns\n",
    "    -------\n",
    "    A list of movies, each movie in a dictionary\n",
    "    \"\"\"\n",
    "    # Set the API endpoint and parameters\n",
    "    url = tmdb_url + \"/discover/movie\"\n",
    "\n",
    "    # Fetch movies page by page until there are no more\n",
    "    movies = []\n",
    "    i = 1\n",
    "    while True:\n",
    "        params = {\n",
    "            \"api_key\": TMDB_API_KEY,\n",
    "            \"sort_by\": \"vote_average.desc\",\n",
    "            \"vote_count.gte\": min_votes,\n",
    "            \"page\": i,\n",
    "        }\n",
    "\n",
    "        # Send a GET request to the API and raise an exception if it fails\n",
    "        response = requests.get(url, params=params)\n",
    "        response.raise_for_status()\n",
    "\n",
    "        # Extract the movie data from the response\n",
    "        movies_ = response.json()[\"results\"]\n",
    "        if not movies_:\n",
    "            break\n",
    "        movies.extend(movies_)\n",
    "        i += 1\n",
    "\n",
    "    return movies\n"
   ]
  },
  {
   "cell_type": "code",
   "execution_count": 15,
   "id": "8b97de22-a039-4e1f-821d-3c4f7d700996",
   "metadata": {},
   "outputs": [],
   "source": [
    "movies = fetch_top_rated_movies()"
   ]
  },
  {
   "cell_type": "markdown",
   "id": "577d4585-8d23-4c59-b5ea-9c5213786583",
   "metadata": {},
   "source": [
    "API-et returnerer grunnleggende informasjon om filmene. Av interesse her er tittel, sjanger, år, og sammendrag.\n"
   ]
  },
  {
   "cell_type": "code",
   "execution_count": 18,
   "id": "3523d97f-27e9-441c-b9e1-9c70ea50e1a8",
   "metadata": {},
   "outputs": [
    {
     "name": "stdout",
     "output_type": "stream",
     "text": [
      "{'adult': False, 'backdrop_path': '/zfbjgQE1uSd9wiPTX4VzsLi0rGG.jpg', 'genre_ids': [18, 80], 'id': 278, 'original_language': 'en', 'original_title': 'The Shawshank Redemption', 'overview': 'Imprisoned in the 1940s for the double murder of his wife and her lover, upstanding banker Andy Dufresne begins a new life at the Shawshank prison, where he puts his accounting skills to work for an amoral warden. During his long stretch in prison, Dufresne comes to be admired by the other inmates -- including an older prisoner named Red -- for his integrity and unquenchable sense of hope.', 'popularity': 121.768, 'poster_path': '/9cqNxx0GxF0bflZmeSMuL5tnGzr.jpg', 'release_date': '1994-09-23', 'title': 'The Shawshank Redemption', 'video': False, 'vote_average': 8.7, 'vote_count': 26258}\n"
     ]
    }
   ],
   "source": [
    "print(movies[0])"
   ]
  },
  {
   "cell_type": "markdown",
   "id": "4246603e-794b-4d34-a8a2-7c9a9bdf7cc0",
   "metadata": {},
   "source": [
    "\n",
    "Her er følgende av interesse:\n",
    "- Tittel\n",
    "- Filmsjanger\n",
    "- Sammendrag\n",
    "- År"
   ]
  },
  {
   "cell_type": "markdown",
   "id": "7990bce4-7385-4c43-bb52-b6418bc3ec69",
   "metadata": {},
   "source": [
    "Vi samler denne informasjonen i en dataframe for enklere og raskere prosessering.\n",
    "Vi bruker `polars` som et raskere og mer moderne alternativ til `pandas` selv om det har lite å bety i denne sammenheng\n",
    "siden datasettet er så lite.\n",
    "\n",
    "Først henter vi filmsjangernavn fra API-et og bruker disse istedet for filmsjanger-ID'er.\n",
    "\n",
    "Deretter samler vi informasjonen vi ønsker å bruke til å sammenligne i en kolonne (\"text\") - nemlig  tittel, år, sammendrag og sjangere."
   ]
  },
  {
   "cell_type": "code",
   "execution_count": 63,
   "id": "0310eb1c-a448-461a-9be1-008a98bca627",
   "metadata": {},
   "outputs": [],
   "source": [
    "import polars as pl\n",
    "from functools import lru_cache\n",
    "\n",
    "@lru_cache\n",
    "def get_id_to_genre() -> dict[int, str]:\n",
    "    \"\"\"Return a mapping from genre id to genre name\"\"\"\n",
    "    # Fetch genre names\n",
    "    url = tmdb_url + \"/genre/movie/list\"\n",
    "    params = {\"api_key\": TMDB_API_KEY}\n",
    "    response = requests.get(url, params=params)\n",
    "    response.raise_for_status()\n",
    "    id_and_genre = response.json()[\"genres\"]\n",
    "\n",
    "    # Map genre ids to genre names\n",
    "    id_to_genre = {x[\"id\"]: x[\"name\"] for x in id_and_genre}\n",
    "\n",
    "    return id_to_genre\n",
    "\n",
    "\n",
    "def prep_movies(movies: list[dict]) -> pl.DataFrame:\n",
    "    \"\"\"\n",
    "    Prepare movie data for embedding\n",
    "\n",
    "    Attributes\n",
    "    ----------\n",
    "    movies\n",
    "        List of movies\n",
    "\n",
    "    Returns\n",
    "    -------\n",
    "    polars.DataFrame\n",
    "    \"\"\"\n",
    "    # Create a Polars DataFrame from the movie data\n",
    "    df = pl.DataFrame(movies)\n",
    "\n",
    "    id_to_genre = get_id_to_genre()\n",
    "    # Add genre names from genre ids\n",
    "    df_genres = df[\"genre_ids\"].map_elements(\n",
    "        lambda li: [id_to_genre[id_] for id_ in li], return_dtype=pl.List(pl.String)\n",
    "    )\n",
    "    df = df.with_columns(df_genres.alias(\"genres\"))\n",
    "\n",
    "    # Extract year from release date\n",
    "    df = df.with_columns(df[\"release_date\"].str.head(4).alias(\"year\"))\n",
    "\n",
    "    # Merge all information into a single text column\n",
    "    text = (\n",
    "        \"Movie title: \"\n",
    "        + df[\"title\"]\n",
    "        + \".\\nYear: \"\n",
    "        + df[\"year\"]\n",
    "        + \".\\nOverview: \"\n",
    "        + df[\"overview\"]\n",
    "        + \"\\nGenres: \"\n",
    "        + df[\"genres\"].list.join(\", \")\n",
    "        + \".\"\n",
    "    )\n",
    "\n",
    "    df = df.with_columns(text.alias(\"text\"))\n",
    "\n",
    "    # Drop unecessary columns\n",
    "    df = df[[\"id\", \"title\", \"year\", \"overview\", \"genres\", \"text\"]]\n",
    "\n",
    "    # The API may sometimes yield duplicates. Keep only unique rows\n",
    "    df = df.unique(subset=\"id\", maintain_order=True)\n",
    "\n",
    "    # The vector database expects IDs in string format\n",
    "    df = df.with_columns(df[\"id\"].cast(str))\n",
    "    return df"
   ]
  },
  {
   "cell_type": "code",
   "execution_count": 64,
   "id": "95ec83f1-e238-41a4-8d16-202e842fdc51",
   "metadata": {},
   "outputs": [],
   "source": [
    "df = prep_movies(movies)"
   ]
  },
  {
   "cell_type": "markdown",
   "id": "d863350f-4954-4ac4-9c41-b54d80a73566",
   "metadata": {},
   "source": [
    "La oss se på innholdet til DataFramen"
   ]
  },
  {
   "cell_type": "code",
   "execution_count": 65,
   "id": "99241c25-16d9-4b9c-8ef1-4ee998647ff8",
   "metadata": {},
   "outputs": [
    {
     "data": {
      "text/plain": [
       "4119"
      ]
     },
     "execution_count": 65,
     "metadata": {},
     "output_type": "execute_result"
    }
   ],
   "source": [
    "len(df)"
   ]
  },
  {
   "cell_type": "code",
   "execution_count": 66,
   "id": "ecb7c373-01ed-46fa-a2fd-a1c461935d73",
   "metadata": {},
   "outputs": [
    {
     "data": {
      "text/html": [
       "<div><style>\n",
       ".dataframe > thead > tr,\n",
       ".dataframe > tbody > tr {\n",
       "  text-align: right;\n",
       "  white-space: pre-wrap;\n",
       "}\n",
       "</style>\n",
       "<small>shape: (1, 6)</small><table border=\"1\" class=\"dataframe\"><thead><tr><th>id</th><th>title</th><th>year</th><th>overview</th><th>genres</th><th>text</th></tr><tr><td>str</td><td>str</td><td>str</td><td>str</td><td>list[str]</td><td>str</td></tr></thead><tbody><tr><td>&quot;278&quot;</td><td>&quot;The Shawshank …</td><td>&quot;1994&quot;</td><td>&quot;Imprisoned in …</td><td>[&quot;Drama&quot;, &quot;Crime&quot;]</td><td>&quot;Movie title: T…</td></tr></tbody></table></div>"
      ],
      "text/plain": [
       "shape: (1, 6)\n",
       "┌─────┬───────────────┬──────┬───────────────────┬────────────────────┬────────────────────────────┐\n",
       "│ id  ┆ title         ┆ year ┆ overview          ┆ genres             ┆ text                       │\n",
       "│ --- ┆ ---           ┆ ---  ┆ ---               ┆ ---                ┆ ---                        │\n",
       "│ str ┆ str           ┆ str  ┆ str               ┆ list[str]          ┆ str                        │\n",
       "╞═════╪═══════════════╪══════╪═══════════════════╪════════════════════╪════════════════════════════╡\n",
       "│ 278 ┆ The Shawshank ┆ 1994 ┆ Imprisoned in the ┆ [\"Drama\", \"Crime\"] ┆ Movie title: The Shawshank │\n",
       "│     ┆ Redemption    ┆      ┆ 1940s for the …   ┆                    ┆ Redem…                     │\n",
       "└─────┴───────────────┴──────┴───────────────────┴────────────────────┴────────────────────────────┘"
      ]
     },
     "execution_count": 66,
     "metadata": {},
     "output_type": "execute_result"
    }
   ],
   "source": [
    "df.head(1)"
   ]
  },
  {
   "cell_type": "markdown",
   "id": "5ea33b0d-248a-4dab-af8a-c6f2f1a9f5b4",
   "metadata": {},
   "source": [
    "Dette gir følgende tekst for filmen. Det er denne teksten vi skal bruke i vektordatabasen til å finne lignende filmer."
   ]
  },
  {
   "cell_type": "code",
   "execution_count": 67,
   "id": "6b2c4172-3790-47d7-99cc-719da1a45b23",
   "metadata": {},
   "outputs": [
    {
     "name": "stdout",
     "output_type": "stream",
     "text": [
      "Movie title: The Shawshank Redemption.\n",
      "Year: 1994.\n",
      "Overview: Imprisoned in the 1940s for the double murder of his wife and her lover, upstanding banker Andy Dufresne begins a new life at the Shawshank prison, where he puts his accounting skills to work for an amoral warden. During his long stretch in prison, Dufresne comes to be admired by the other inmates -- including an older prisoner named Red -- for his integrity and unquenchable sense of hope.\n",
      "Genres: Drama, Crime.\n"
     ]
    }
   ],
   "source": [
    "print(df[0, \"text\"])"
   ]
  },
  {
   "cell_type": "markdown",
   "id": "656fb5d9-1973-4d1e-b73f-bdfecfbea437",
   "metadata": {},
   "source": [
    "Vi instansierer en vektordatabase som vi skal bruke til å finne liknende dokumenter. Her finnes det mange alternativer, og vi har valgt ChromaDB hvor vi kan velge en valgfri embedding-funksjon."
   ]
  },
  {
   "cell_type": "code",
   "execution_count": 32,
   "id": "14b9edeb-2fee-49c8-96ee-5ccbc6e64de1",
   "metadata": {},
   "outputs": [],
   "source": [
    "import chromadb\n",
    "client = chromadb.Client()"
   ]
  },
  {
   "cell_type": "code",
   "execution_count": 71,
   "id": "cc890aca-7e78-4eff-a0a5-bd396ca5fac9",
   "metadata": {},
   "outputs": [],
   "source": [
    "title_collection = client.get_or_create_collection(\"movie_titles\")"
   ]
  },
  {
   "cell_type": "code",
   "execution_count": null,
   "id": "b8cb5e6f-d898-416f-bfa3-26f2e1e653d2",
   "metadata": {},
   "outputs": [],
   "source": [
    "if not title_collection.count():\n",
    "    title_collection.add(documents=df[\"title\"].to_list(), ids=df[\"id\"].to_list())"
   ]
  },
  {
   "cell_type": "code",
   "execution_count": 46,
   "id": "089d61e6-f3cb-499f-9f91-df8714d54d58",
   "metadata": {},
   "outputs": [],
   "source": [
    "results = title_collection.query(query_texts=[\"Star Wars\"], n_results=20)"
   ]
  },
  {
   "cell_type": "code",
   "execution_count": 48,
   "id": "5d174531-90b8-4297-9373-a886e51b4200",
   "metadata": {},
   "outputs": [
    {
     "name": "stdout",
     "output_type": "stream",
     "text": [
      "[['Star Wars', 'Star Wars: The Last Jedi', 'Star Wars: The Force Awakens', 'Star Wars: The Clone Wars', 'Star Wars: The Rise of Skywalker', 'Star Wars: Episode I - The Phantom Menace', 'Starship Troopers', 'Rogue One: A Star Wars Story', 'Return of the Jedi', 'Empire of the Sun', 'Guardians of the Galaxy', 'Solo: A Star Wars Story', 'Star Trek', 'The Empire Strikes Back', 'Star Wars: Episode III - Revenge of the Sith', 'Interstellar', 'Guardians of the Galaxy Vol. 2', 'King Kong', 'King Kong', 'Star Wars: Episode II - Attack of the Clones']]\n"
     ]
    }
   ],
   "source": [
    "print(results[\"documents\"])"
   ]
  },
  {
   "cell_type": "markdown",
   "id": "858f7272-571d-4f82-a6af-3d678ef7803f",
   "metadata": {},
   "source": [
    "For å demonstrere at LMen gir større likhet mellom dokumenter av lik semantisk betydning, legger vi til dokumentet \"Star Alliance\". I motsetning til tidligere dokumenter, er ikke dette en film, men navn på et selskap som er en en allianse av flyselskaper."
   ]
  },
  {
   "cell_type": "code",
   "execution_count": 50,
   "id": "71084c2f-4615-4ea3-895e-9864dfe981cc",
   "metadata": {},
   "outputs": [],
   "source": [
    "title_collection.add(documents=[\"Star Alliance\"], ids=[\"9999\"])"
   ]
  },
  {
   "cell_type": "markdown",
   "id": "bee7e97c-8297-48a3-bb09-397e0828b752",
   "metadata": {},
   "source": [
    "Databasen tilbyr flere alternativer for å måle likheten mellom dokumenter. Likheten mellom to dokumenter er gitt av distansen mellom de to tilhørende vektor embeddingene. Som default bruker ChromaDB $L^2$ distanse, som er gitt av:\n",
    "\n",
    "$ d=∑_i(A_i - B_i)^2 $\n",
    "\n",
    "Hvor $A_i$ er index $i$ i vektor embeddingen til dokument $A$"
   ]
  },
  {
   "cell_type": "code",
   "execution_count": 51,
   "id": "cefc2a30-b98a-4095-8adf-51dd79301d02",
   "metadata": {},
   "outputs": [],
   "source": [
    "results = title_collection.query(query_texts=[\"Star Wars\"], n_results=20)"
   ]
  },
  {
   "cell_type": "code",
   "execution_count": 52,
   "id": "2b1a8579-1e9b-4f9b-9093-3a3eebd327ba",
   "metadata": {},
   "outputs": [
    {
     "name": "stdout",
     "output_type": "stream",
     "text": [
      "[['Star Wars', 'Star Wars: The Last Jedi', 'Star Wars: The Force Awakens', 'Star Wars: The Clone Wars', 'Star Wars: The Rise of Skywalker', 'Star Wars: Episode I - The Phantom Menace', 'Starship Troopers', 'Rogue One: A Star Wars Story', 'Return of the Jedi', 'Empire of the Sun', 'Guardians of the Galaxy', 'Solo: A Star Wars Story', 'Star Trek', 'The Empire Strikes Back', 'Star Wars: Episode III - Revenge of the Sith', 'Star Alliance', 'Interstellar', 'Guardians of the Galaxy Vol. 2', 'King Kong', 'King Kong']]\n"
     ]
    }
   ],
   "source": [
    "print(results[\"documents\"])"
   ]
  },
  {
   "cell_type": "markdown",
   "id": "df83ba32-d56f-4549-89e1-760e38f66b44",
   "metadata": {},
   "source": [
    "Som vi ser så dukker ikke \"Star Alliance\" opp som et lignende resultat til \"Star Wars\". LMen kjenner ikke dette navnet som en film, og det har dermed mye lavere likhet enn navnet på andre "
   ]
  },
  {
   "cell_type": "code",
   "execution_count": 54,
   "id": "f66516a0-f648-4a2a-bb1c-9b18c8a25f7c",
   "metadata": {},
   "outputs": [
    {
     "data": {
      "text/plain": [
       "[[[-0.0732547789812088,\n",
       "   0.010070987045764923,\n",
       "   -0.0035544871352612972,\n",
       "   -0.013902664184570312,\n",
       "   -0.04536248371005058,\n",
       "   0.010174545459449291,\n",
       "   0.06956266611814499,\n",
       "   0.029881272464990616,\n",
       "   0.0726681649684906,\n",
       "   0.04335178807377815,\n",
       "   0.018892085179686546,\n",
       "   -0.016079893335700035,\n",
       "   0.024354442954063416,\n",
       "   -0.010189964435994625,\n",
       "   -0.014761065132915974,\n",
       "   -0.017748933285474777,\n",
       "   0.03628627955913544,\n",
       "   -0.036271754652261734,\n",
       "   0.033778801560401917,\n",
       "   -0.05755142495036125,\n",
       "   0.01229142677038908,\n",
       "   0.05022326484322548,\n",
       "   0.032130636274814606,\n",
       "   0.01590275764465332,\n",
       "   0.0214584618806839,\n",
       "   0.08383522182703018,\n",
       "   0.003329054219648242,\n",
       "   -0.00615691626444459,\n",
       "   -0.10529165714979172,\n",
       "   -0.10661821812391281,\n",
       "   0.022368373349308968,\n",
       "   0.034402817487716675,\n",
       "   -0.0833054631948471,\n",
       "   0.04602351412177086,\n",
       "   -0.05026637017726898,\n",
       "   -0.04611540958285332,\n",
       "   0.00021591233962681144,\n",
       "   0.013707726262509823,\n",
       "   0.024085164070129395,\n",
       "   -0.021809205412864685,\n",
       "   -0.08902840316295624,\n",
       "   -0.09860844165086746,\n",
       "   0.05655268207192421,\n",
       "   -0.0007794033735990524,\n",
       "   0.03851328417658806,\n",
       "   -0.009366288781166077,\n",
       "   0.0006856476538814604,\n",
       "   -0.028966354206204414,\n",
       "   0.0965040996670723,\n",
       "   0.09507671743631363,\n",
       "   0.024722738191485405,\n",
       "   0.0035598939284682274,\n",
       "   -0.04629641771316528,\n",
       "   0.024410134181380272,\n",
       "   0.08145919442176819,\n",
       "   -0.10169671475887299,\n",
       "   0.0004662622814066708,\n",
       "   -0.009576020762324333,\n",
       "   0.015192066319286823,\n",
       "   -0.04305334761738777,\n",
       "   0.012917540967464447,\n",
       "   -0.026488807052373886,\n",
       "   -0.020678266882896423,\n",
       "   0.015080129727721214,\n",
       "   0.0393947958946228,\n",
       "   -0.09973876178264618,\n",
       "   0.01652301289141178,\n",
       "   0.05798418074846268,\n",
       "   -0.07357184588909149,\n",
       "   -0.036566466093063354,\n",
       "   -0.07382512837648392,\n",
       "   0.057385969907045364,\n",
       "   0.048967353999614716,\n",
       "   0.01726975105702877,\n",
       "   -0.023856906220316887,\n",
       "   -0.04159334674477577,\n",
       "   0.062277741730213165,\n",
       "   -0.004380009137094021,\n",
       "   0.07771772146224976,\n",
       "   -0.07384021580219269,\n",
       "   0.032871734350919724,\n",
       "   -0.008925111964344978,\n",
       "   -0.12112709879875183,\n",
       "   0.09181110560894012,\n",
       "   -0.05446198582649231,\n",
       "   -0.012308997102081776,\n",
       "   0.009562251158058643,\n",
       "   -0.016876913607120514,\n",
       "   0.0182277113199234,\n",
       "   0.06502538919448853,\n",
       "   -0.09714087098836899,\n",
       "   -0.023836206644773483,\n",
       "   0.06467622518539429,\n",
       "   0.028925027698278427,\n",
       "   -0.10327382385730743,\n",
       "   0.04124164953827858,\n",
       "   -0.011198143474757671,\n",
       "   -0.11029481887817383,\n",
       "   0.0256071574985981,\n",
       "   0.1979643553495407,\n",
       "   0.022750912234187126,\n",
       "   -0.06250444799661636,\n",
       "   -0.020569024607539177,\n",
       "   -0.011151257902383804,\n",
       "   0.07855012267827988,\n",
       "   0.028913242742419243,\n",
       "   0.002922417363151908,\n",
       "   -0.04110167920589447,\n",
       "   -0.021767085418105125,\n",
       "   0.03928188234567642,\n",
       "   -0.04154733940958977,\n",
       "   -0.001126301009207964,\n",
       "   -0.06850049644708633,\n",
       "   0.00886851828545332,\n",
       "   0.03747399151325226,\n",
       "   0.040438827127218246,\n",
       "   0.06262538582086563,\n",
       "   -0.024610210210084915,\n",
       "   -0.05685494840145111,\n",
       "   -0.001707922201603651,\n",
       "   0.013776984997093678,\n",
       "   -0.013772058300673962,\n",
       "   -0.0003943894407711923,\n",
       "   -0.005028095096349716,\n",
       "   -0.07410265505313873,\n",
       "   -0.03179715573787689,\n",
       "   0.004061806946992874,\n",
       "   -1.6590839105429454e-33,\n",
       "   0.001187718822620809,\n",
       "   -0.0713263750076294,\n",
       "   0.077009417116642,\n",
       "   0.044331565499305725,\n",
       "   0.0068159871734678745,\n",
       "   -0.034763727337121964,\n",
       "   -0.024865712970495224,\n",
       "   0.022933214902877808,\n",
       "   -0.07306095957756042,\n",
       "   0.039025645703077316,\n",
       "   -0.09289450943470001,\n",
       "   -0.06684145331382751,\n",
       "   -0.04035475105047226,\n",
       "   -0.013149147853255272,\n",
       "   0.14072108268737793,\n",
       "   0.04850231483578682,\n",
       "   -0.011545466259121895,\n",
       "   0.03295617923140526,\n",
       "   -0.025424504652619362,\n",
       "   -0.0013981637312099338,\n",
       "   -0.07981592416763306,\n",
       "   0.021483635529875755,\n",
       "   0.0205587986856699,\n",
       "   0.0009135428699664772,\n",
       "   0.02806887775659561,\n",
       "   -0.014565843157470226,\n",
       "   -0.025303926318883896,\n",
       "   0.0014949985779821873,\n",
       "   0.04586770758032799,\n",
       "   0.02303699031472206,\n",
       "   0.02084929123520851,\n",
       "   0.04577499255537987,\n",
       "   0.05175633728504181,\n",
       "   0.01808602549135685,\n",
       "   0.049419645220041275,\n",
       "   -0.04841373488306999,\n",
       "   -0.04155050218105316,\n",
       "   -0.06822339445352554,\n",
       "   -0.006498684175312519,\n",
       "   -0.0017162446165457368,\n",
       "   0.019977014511823654,\n",
       "   0.08433371782302856,\n",
       "   -0.055979277938604355,\n",
       "   0.007094734348356724,\n",
       "   -0.0019381039310246706,\n",
       "   0.04458359628915787,\n",
       "   0.024722473695874214,\n",
       "   -0.01567590981721878,\n",
       "   -0.07731238007545471,\n",
       "   0.15465326607227325,\n",
       "   0.0075502353720366955,\n",
       "   0.03425655886530876,\n",
       "   -0.04763359948992729,\n",
       "   0.00537901371717453,\n",
       "   -0.012770706787705421,\n",
       "   -0.024766897782683372,\n",
       "   0.02455982193350792,\n",
       "   -0.05574808642268181,\n",
       "   -0.03491729870438576,\n",
       "   0.009718506596982479,\n",
       "   -0.030559567734599113,\n",
       "   0.04720987379550934,\n",
       "   -0.0035828088875859976,\n",
       "   0.015934891998767853,\n",
       "   -0.004877978004515171,\n",
       "   0.08894895762205124,\n",
       "   0.037599917501211166,\n",
       "   -0.032698772847652435,\n",
       "   0.016738127917051315,\n",
       "   -0.017784394323825836,\n",
       "   -0.06347215175628662,\n",
       "   -0.016299938783049583,\n",
       "   0.035679012537002563,\n",
       "   -0.060335416346788406,\n",
       "   0.04375164583325386,\n",
       "   0.029886649921536446,\n",
       "   0.05356591194868088,\n",
       "   0.02849770523607731,\n",
       "   -0.1344459354877472,\n",
       "   -0.03394052013754845,\n",
       "   -0.07192874699831009,\n",
       "   0.007255618926137686,\n",
       "   -0.005433728918433189,\n",
       "   0.028082801029086113,\n",
       "   0.028045911341905594,\n",
       "   0.00026917719515040517,\n",
       "   -0.13948406279087067,\n",
       "   -0.04646601900458336,\n",
       "   0.07288354635238647,\n",
       "   -0.04551156610250473,\n",
       "   -0.00922425091266632,\n",
       "   -0.12465444952249527,\n",
       "   0.07100407034158707,\n",
       "   -0.021090077236294746,\n",
       "   -0.09122039377689362,\n",
       "   5.603668814091195e-34,\n",
       "   -0.039058901369571686,\n",
       "   -0.04023969545960426,\n",
       "   -0.020618723705410957,\n",
       "   -0.0005599641008302569,\n",
       "   0.10929867625236511,\n",
       "   0.033241063356399536,\n",
       "   -0.07924654334783554,\n",
       "   0.008919203653931618,\n",
       "   -0.05603049695491791,\n",
       "   0.03485632687807083,\n",
       "   -0.1013544350862503,\n",
       "   0.0351984016597271,\n",
       "   0.03936989977955818,\n",
       "   0.017586983740329742,\n",
       "   0.06176277995109558,\n",
       "   -0.026995768770575523,\n",
       "   0.05166039243340492,\n",
       "   0.01567007601261139,\n",
       "   0.028057053685188293,\n",
       "   0.06355606764554977,\n",
       "   0.060718245804309845,\n",
       "   -0.004618816077709198,\n",
       "   0.001662447233684361,\n",
       "   -0.037580206990242004,\n",
       "   -0.023380586877465248,\n",
       "   0.0548284575343132,\n",
       "   -0.02826443687081337,\n",
       "   -0.010013178922235966,\n",
       "   -0.07588270306587219,\n",
       "   -0.006082107312977314,\n",
       "   0.02664068527519703,\n",
       "   -0.04094760864973068,\n",
       "   -0.01542598195374012,\n",
       "   0.05088197812438011,\n",
       "   0.043470561504364014,\n",
       "   0.07847297936677933,\n",
       "   0.04056042432785034,\n",
       "   -0.019534200429916382,\n",
       "   -0.05482640489935875,\n",
       "   -0.03424516320228577,\n",
       "   0.004795285407453775,\n",
       "   0.0472402349114418,\n",
       "   -0.06722608953714371,\n",
       "   0.11262387037277222,\n",
       "   -0.05118551477789879,\n",
       "   -0.03082393854856491,\n",
       "   0.0005176656995899975,\n",
       "   0.0819445252418518,\n",
       "   -0.017544196918606758,\n",
       "   0.027051892131567,\n",
       "   -0.10442479699850082,\n",
       "   -0.019574707373976707,\n",
       "   0.05789578706026077,\n",
       "   -0.0829249769449234,\n",
       "   -0.057963136583566666,\n",
       "   0.015118945389986038,\n",
       "   -0.036624807864427567,\n",
       "   0.0784449577331543,\n",
       "   0.04453432559967041,\n",
       "   0.03469361364841461,\n",
       "   -0.008818798698484898,\n",
       "   -0.05234900861978531,\n",
       "   -0.00766595546156168,\n",
       "   0.005637479946017265,\n",
       "   -0.0802181214094162,\n",
       "   -0.039522409439086914,\n",
       "   0.012396461330354214,\n",
       "   0.05276797339320183,\n",
       "   -0.03200237825512886,\n",
       "   -0.05897384136915207,\n",
       "   0.02447729930281639,\n",
       "   0.03587406873703003,\n",
       "   -0.061063215136528015,\n",
       "   0.04456087946891785,\n",
       "   0.0003442477900534868,\n",
       "   -0.04412500932812691,\n",
       "   0.0034468171652406454,\n",
       "   -0.05837453901767731,\n",
       "   -0.03609486296772957,\n",
       "   0.02899346873164177,\n",
       "   0.0103019243106246,\n",
       "   0.026035126298666,\n",
       "   0.03401551395654678,\n",
       "   0.0616471990942955,\n",
       "   -0.026975911110639572,\n",
       "   0.10594222694635391,\n",
       "   0.0008736529853194952,\n",
       "   0.010311122052371502,\n",
       "   0.05559919774532318,\n",
       "   -0.03623778373003006,\n",
       "   0.038507357239723206,\n",
       "   0.01959221623837948,\n",
       "   0.07606259733438492,\n",
       "   -0.009736012667417526,\n",
       "   -0.014458724297583103,\n",
       "   -1.5150224186299965e-08,\n",
       "   0.013496813364326954,\n",
       "   0.04255247488617897,\n",
       "   0.01961156539618969,\n",
       "   -0.06091414764523506,\n",
       "   0.006374021992087364,\n",
       "   0.010092809796333313,\n",
       "   -0.007091710809618235,\n",
       "   0.07347460836172104,\n",
       "   0.06358546763658524,\n",
       "   0.041224073618650436,\n",
       "   0.01440634485334158,\n",
       "   0.07785646617412567,\n",
       "   0.01963634416460991,\n",
       "   -0.010560715571045876,\n",
       "   -0.019101589918136597,\n",
       "   0.050852883607149124,\n",
       "   0.015714401379227638,\n",
       "   0.01622466742992401,\n",
       "   -0.05323304980993271,\n",
       "   0.017942169681191444,\n",
       "   -0.03200545534491539,\n",
       "   -0.014371137134730816,\n",
       "   0.06535490602254868,\n",
       "   0.024521110579371452,\n",
       "   -0.027004653587937355,\n",
       "   -0.014910927973687649,\n",
       "   -0.02485988289117813,\n",
       "   0.026135506108403206,\n",
       "   0.015279130078852177,\n",
       "   0.015293623320758343,\n",
       "   0.017634551972150803,\n",
       "   0.12023936212062836,\n",
       "   -0.09354927390813828,\n",
       "   -0.06222466751933098,\n",
       "   -0.033717166632413864,\n",
       "   0.010585807263851166,\n",
       "   0.05162742733955383,\n",
       "   0.01995060406625271,\n",
       "   0.017026865854859352,\n",
       "   -5.735097875003703e-05,\n",
       "   0.009288722649216652,\n",
       "   0.11246565729379654,\n",
       "   0.037753451615571976,\n",
       "   -0.0012810821644961834,\n",
       "   -0.029616739600896835,\n",
       "   0.058333635330200195,\n",
       "   0.06572600454092026,\n",
       "   -0.12615393102169037,\n",
       "   -0.02562675252556801,\n",
       "   -0.09687697142362595,\n",
       "   0.011895103380084038,\n",
       "   0.0939365103840828,\n",
       "   -0.03850289061665535,\n",
       "   -0.014114637859165668,\n",
       "   -0.044493429362773895,\n",
       "   0.0515330545604229,\n",
       "   -0.07965700328350067,\n",
       "   0.07440793514251709,\n",
       "   -0.03672267124056816,\n",
       "   0.009407312609255314,\n",
       "   0.15209858119487762,\n",
       "   -0.0433349572122097,\n",
       "   0.0007457692991010845,\n",
       "   0.05014974996447563]]]"
      ]
     },
     "execution_count": 54,
     "metadata": {},
     "output_type": "execute_result"
    }
   ],
   "source": [
    "title_collection.query(query_texts=[\"Star Wars\"], n_results=1, include=[\"embeddings\"])[\"embeddings\"]"
   ]
  },
  {
   "cell_type": "code",
   "execution_count": null,
   "id": "2fca4e79-8f1b-40e5-9438-6aa4f05ea5af",
   "metadata": {},
   "outputs": [],
   "source": [
    "An embedding represents the semantic essence of a document. "
   ]
  },
  {
   "cell_type": "markdown",
   "id": "7b853a1c-eabb-45fc-bbaf-d1e4a4c74ccd",
   "metadata": {},
   "source": [
    "Andre eksempler hvor bruker av LM og vektordatabase kan være nyttig for å finne like items (for eksemepel dokumenter)"
   ]
  }
 ],
 "metadata": {
  "kernelspec": {
   "display_name": "Python 3 (ipykernel)",
   "language": "python",
   "name": "python3"
  },
  "language_info": {
   "codemirror_mode": {
    "name": "ipython",
    "version": 3
   },
   "file_extension": ".py",
   "mimetype": "text/x-python",
   "name": "python",
   "nbconvert_exporter": "python",
   "pygments_lexer": "ipython3",
   "version": "3.12.3"
  }
 },
 "nbformat": 4,
 "nbformat_minor": 5
}
