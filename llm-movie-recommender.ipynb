{
 "cells": [
  {
   "cell_type": "markdown",
   "id": "9b07a1d3-9bbf-402e-8634-3acb96e60d20",
   "metadata": {},
   "source": [
    "# LLM Movie Recommender"
   ]
  },
  {
   "cell_type": "markdown",
   "id": "741be138-3bed-4b9a-80fb-0628829116f5",
   "metadata": {},
   "source": [
    "Denne notebooken demonstrerer bruk av en språkmodel (Language Model - LM) og en vektordatabase for anbefaling av filmer.\n",
    "\n",
    "Denne metoden løser det såkalte \"cold start\" problemet for anbefalingsalgoritmer, hvor det ikke finnes\n",
    "data fra brukeren av systemet eller data fra andre brukere av systemet til å gi anbefalinger.\n",
    "\n",
    "I tilfellet hvor det finnes data på hvilke brukere som foretrekker hvilke filmer, er det enklere å lage en anbefalingsalgoritme.\n",
    "Da er det mulig å bruke denne dataen til å gi anbefalinger - for eksempel, blandt alle brukere som har gitt høy vurdering (rating)\n",
    "for \"Star Wars\", er det kanskje gitt høy rating for \"Back to The Future\", og da kan man gi anbefaling av denne.\n",
    "\n",
    "I stedet, kan vi bruke en språkmodell til å finne film-anbefalinger basert på hvor likt sammendraget av filmen er (semantisk likhet), og basert på hvor ofte\n",
    "navnet på filmen forekommer i samme kontekst som andre filmer.\n",
    "\n",
    "Denne anbefalingsalgoritmen ligner på clustering. Datasettet består av unlabelled data - informasjon om filmer, uten informasjon\n",
    "om hvilke filmer som er like eller hvilke brukere som like hvilke filmer. Algoritmen gir informasjon om hvor like filmer er hverandre,\n",
    "og kan dermed brukes til å gi anbefalinger. For eksempel kan vi forvente (håpe) på at filmer som handler å reise i tid ved hjelp av tidsmaskiner\n",
    "ligger nær hverandre - det vil si at cluster-algoritmen mener disse filmene har en likhet med hverandre."
   ]
  },
  {
   "cell_type": "code",
   "execution_count": null,
   "id": "1df31253-35df-4522-bb31-8a396ecf33f6",
   "metadata": {},
   "outputs": [],
   "source": []
  },
  {
   "cell_type": "markdown",
   "id": "fe88bb15-59be-4330-8c91-a65a0bfd4fd2",
   "metadata": {},
   "source": [
    "La oss først begynne med å hente filmdata fra den åpne filmdatabasen TMDb ved å bruke API-et.\n",
    "\n",
    "Dette er veldig rett fram. Vi henter informasjon om alle tilgjengelige filmer som har 1000 brukervurderinger eller mer. "
   ]
  },
  {
   "cell_type": "code",
   "execution_count": 24,
   "id": "bfaa35cc-31c7-4b7a-a45d-7a823f7b8bd8",
   "metadata": {},
   "outputs": [],
   "source": [
    "%autoreload 2\n",
    "from main import *\n",
    "from pprint import pprint"
   ]
  },
  {
   "cell_type": "code",
   "execution_count": 4,
   "id": "9175537e-fe92-4adf-bcff-71e6fdeadafb",
   "metadata": {},
   "outputs": [],
   "source": [
    "from config import TMDB_API_KEY\n",
    "import requests\n",
    "\n",
    "tmdb_url = \"https://api.themoviedb.org/3\""
   ]
  },
  {
   "cell_type": "code",
   "execution_count": 5,
   "id": "fc84a93d-6585-4dff-ab11-c49712a30e30",
   "metadata": {},
   "outputs": [
    {
     "data": {
      "text/plain": [
       "\u001b[1;31mSignature:\u001b[0m \u001b[0mfetch_popular_movies\u001b[0m\u001b[1;33m(\u001b[0m\u001b[0mmin_votes\u001b[0m\u001b[1;33m:\u001b[0m \u001b[0mint\u001b[0m \u001b[1;33m=\u001b[0m \u001b[1;36m1000\u001b[0m\u001b[1;33m)\u001b[0m \u001b[1;33m->\u001b[0m \u001b[0mlist\u001b[0m\u001b[1;33m[\u001b[0m\u001b[0mdict\u001b[0m\u001b[1;33m]\u001b[0m\u001b[1;33m\u001b[0m\u001b[1;33m\u001b[0m\u001b[0m\n",
       "\u001b[1;31mSource:\u001b[0m   \n",
       "\u001b[1;32mdef\u001b[0m \u001b[0mfetch_popular_movies\u001b[0m\u001b[1;33m(\u001b[0m\u001b[0mmin_votes\u001b[0m\u001b[1;33m:\u001b[0m \u001b[0mint\u001b[0m \u001b[1;33m=\u001b[0m \u001b[1;36m1_000\u001b[0m\u001b[1;33m)\u001b[0m \u001b[1;33m->\u001b[0m \u001b[0mlist\u001b[0m\u001b[1;33m[\u001b[0m\u001b[0mdict\u001b[0m\u001b[1;33m]\u001b[0m\u001b[1;33m:\u001b[0m\u001b[1;33m\u001b[0m\n",
       "\u001b[1;33m\u001b[0m    \u001b[1;34m\"\"\"\u001b[0m\n",
       "\u001b[1;34m    Fetch most popular movies from themoviedb (TMDb)\u001b[0m\n",
       "\u001b[1;34m\u001b[0m\n",
       "\u001b[1;34m    Parameters\u001b[0m\n",
       "\u001b[1;34m    ----------\u001b[0m\n",
       "\u001b[1;34m    min_votes\u001b[0m\n",
       "\u001b[1;34m        Only fetch movies that have this number of votes or more\u001b[0m\n",
       "\u001b[1;34m\u001b[0m\n",
       "\u001b[1;34m    Returns\u001b[0m\n",
       "\u001b[1;34m    -------\u001b[0m\n",
       "\u001b[1;34m    A list of movies, each movie in a dictionary\u001b[0m\n",
       "\u001b[1;34m    \"\"\"\u001b[0m\u001b[1;33m\u001b[0m\n",
       "\u001b[1;33m\u001b[0m    \u001b[1;31m# Set the API endpoint and parameters\u001b[0m\u001b[1;33m\u001b[0m\n",
       "\u001b[1;33m\u001b[0m    \u001b[0murl\u001b[0m \u001b[1;33m=\u001b[0m \u001b[0mtmdb_url\u001b[0m \u001b[1;33m+\u001b[0m \u001b[1;34m\"/discover/movie\"\u001b[0m\u001b[1;33m\u001b[0m\n",
       "\u001b[1;33m\u001b[0m\u001b[1;33m\u001b[0m\n",
       "\u001b[1;33m\u001b[0m    \u001b[1;31m# Fetch movies page by page until there are no more\u001b[0m\u001b[1;33m\u001b[0m\n",
       "\u001b[1;33m\u001b[0m    \u001b[0mmovies\u001b[0m \u001b[1;33m=\u001b[0m \u001b[1;33m[\u001b[0m\u001b[1;33m]\u001b[0m\u001b[1;33m\u001b[0m\n",
       "\u001b[1;33m\u001b[0m    \u001b[0mi\u001b[0m \u001b[1;33m=\u001b[0m \u001b[1;36m1\u001b[0m\u001b[1;33m\u001b[0m\n",
       "\u001b[1;33m\u001b[0m    \u001b[1;32mwhile\u001b[0m \u001b[1;32mTrue\u001b[0m\u001b[1;33m:\u001b[0m\u001b[1;33m\u001b[0m\n",
       "\u001b[1;33m\u001b[0m        \u001b[0mparams\u001b[0m \u001b[1;33m=\u001b[0m \u001b[1;33m{\u001b[0m\u001b[1;33m\u001b[0m\n",
       "\u001b[1;33m\u001b[0m            \u001b[1;34m\"api_key\"\u001b[0m\u001b[1;33m:\u001b[0m \u001b[0mTMDB_API_KEY\u001b[0m\u001b[1;33m,\u001b[0m\u001b[1;33m\u001b[0m\n",
       "\u001b[1;33m\u001b[0m            \u001b[1;34m\"sort_by\"\u001b[0m\u001b[1;33m:\u001b[0m \u001b[1;34m\"vote_average.desc\"\u001b[0m\u001b[1;33m,\u001b[0m\u001b[1;33m\u001b[0m\n",
       "\u001b[1;33m\u001b[0m            \u001b[1;34m\"vote_count.gte\"\u001b[0m\u001b[1;33m:\u001b[0m \u001b[0mmin_votes\u001b[0m\u001b[1;33m,\u001b[0m\u001b[1;33m\u001b[0m\n",
       "\u001b[1;33m\u001b[0m            \u001b[1;34m\"page\"\u001b[0m\u001b[1;33m:\u001b[0m \u001b[0mi\u001b[0m\u001b[1;33m,\u001b[0m\u001b[1;33m\u001b[0m\n",
       "\u001b[1;33m\u001b[0m        \u001b[1;33m}\u001b[0m\u001b[1;33m\u001b[0m\n",
       "\u001b[1;33m\u001b[0m\u001b[1;33m\u001b[0m\n",
       "\u001b[1;33m\u001b[0m        \u001b[1;31m# Send a GET request to the API and raise an exception if it fails\u001b[0m\u001b[1;33m\u001b[0m\n",
       "\u001b[1;33m\u001b[0m        \u001b[0mresponse\u001b[0m \u001b[1;33m=\u001b[0m \u001b[0mrequests\u001b[0m\u001b[1;33m.\u001b[0m\u001b[0mget\u001b[0m\u001b[1;33m(\u001b[0m\u001b[0murl\u001b[0m\u001b[1;33m,\u001b[0m \u001b[0mparams\u001b[0m\u001b[1;33m=\u001b[0m\u001b[0mparams\u001b[0m\u001b[1;33m)\u001b[0m\u001b[1;33m\u001b[0m\n",
       "\u001b[1;33m\u001b[0m        \u001b[0mresponse\u001b[0m\u001b[1;33m.\u001b[0m\u001b[0mraise_for_status\u001b[0m\u001b[1;33m(\u001b[0m\u001b[1;33m)\u001b[0m\u001b[1;33m\u001b[0m\n",
       "\u001b[1;33m\u001b[0m\u001b[1;33m\u001b[0m\n",
       "\u001b[1;33m\u001b[0m        \u001b[1;31m# Extract the movie data from the response\u001b[0m\u001b[1;33m\u001b[0m\n",
       "\u001b[1;33m\u001b[0m        \u001b[0mmovies_\u001b[0m \u001b[1;33m=\u001b[0m \u001b[0mresponse\u001b[0m\u001b[1;33m.\u001b[0m\u001b[0mjson\u001b[0m\u001b[1;33m(\u001b[0m\u001b[1;33m)\u001b[0m\u001b[1;33m[\u001b[0m\u001b[1;34m\"results\"\u001b[0m\u001b[1;33m]\u001b[0m\u001b[1;33m\u001b[0m\n",
       "\u001b[1;33m\u001b[0m        \u001b[1;32mif\u001b[0m \u001b[1;32mnot\u001b[0m \u001b[0mmovies_\u001b[0m\u001b[1;33m:\u001b[0m\u001b[1;33m\u001b[0m\n",
       "\u001b[1;33m\u001b[0m            \u001b[1;32mbreak\u001b[0m\u001b[1;33m\u001b[0m\n",
       "\u001b[1;33m\u001b[0m        \u001b[0mmovies\u001b[0m\u001b[1;33m.\u001b[0m\u001b[0mextend\u001b[0m\u001b[1;33m(\u001b[0m\u001b[0mmovies_\u001b[0m\u001b[1;33m)\u001b[0m\u001b[1;33m\u001b[0m\n",
       "\u001b[1;33m\u001b[0m        \u001b[0mi\u001b[0m \u001b[1;33m+=\u001b[0m \u001b[1;36m1\u001b[0m\u001b[1;33m\u001b[0m\n",
       "\u001b[1;33m\u001b[0m\u001b[1;33m\u001b[0m\n",
       "\u001b[1;33m\u001b[0m    \u001b[1;32mreturn\u001b[0m \u001b[0mmovies\u001b[0m\u001b[1;33m\u001b[0m\u001b[1;33m\u001b[0m\u001b[0m\n",
       "\u001b[1;31mFile:\u001b[0m      ~/code/llm-movie-recommender/main.py\n",
       "\u001b[1;31mType:\u001b[0m      function"
      ]
     },
     "metadata": {},
     "output_type": "display_data"
    }
   ],
   "source": [
    "??fetch_popular_movies"
   ]
  },
  {
   "cell_type": "code",
   "execution_count": 6,
   "id": "8b97de22-a039-4e1f-821d-3c4f7d700996",
   "metadata": {},
   "outputs": [],
   "source": [
    "movies = fetch_popular_movies()"
   ]
  },
  {
   "cell_type": "markdown",
   "id": "577d4585-8d23-4c59-b5ea-9c5213786583",
   "metadata": {},
   "source": [
    "API-et returnerer grunnleggende informasjon om filmene. Av interesse her er tittel, sjanger, år, og sammendrag.\n"
   ]
  },
  {
   "cell_type": "code",
   "execution_count": 25,
   "id": "3523d97f-27e9-441c-b9e1-9c70ea50e1a8",
   "metadata": {},
   "outputs": [
    {
     "name": "stdout",
     "output_type": "stream",
     "text": [
      "{'adult': False,\n",
      " 'backdrop_path': '/zfbjgQE1uSd9wiPTX4VzsLi0rGG.jpg',\n",
      " 'genre_ids': [18, 80],\n",
      " 'id': 278,\n",
      " 'original_language': 'en',\n",
      " 'original_title': 'The Shawshank Redemption',\n",
      " 'overview': 'Imprisoned in the 1940s for the double murder of his wife and '\n",
      "             'her lover, upstanding banker Andy Dufresne begins a new life at '\n",
      "             'the Shawshank prison, where he puts his accounting skills to '\n",
      "             'work for an amoral warden. During his long stretch in prison, '\n",
      "             'Dufresne comes to be admired by the other inmates -- including '\n",
      "             'an older prisoner named Red -- for his integrity and '\n",
      "             'unquenchable sense of hope.',\n",
      " 'popularity': 176.351,\n",
      " 'poster_path': '/9cqNxx0GxF0bflZmeSMuL5tnGzr.jpg',\n",
      " 'release_date': '1994-09-23',\n",
      " 'title': 'The Shawshank Redemption',\n",
      " 'video': False,\n",
      " 'vote_average': 8.705,\n",
      " 'vote_count': 26355}\n"
     ]
    }
   ],
   "source": [
    "pprint(movies[0])"
   ]
  },
  {
   "cell_type": "markdown",
   "id": "4246603e-794b-4d34-a8a2-7c9a9bdf7cc0",
   "metadata": {},
   "source": [
    "\n",
    "Her er følgende av interesse:\n",
    "- Tittel\n",
    "- Filmsjanger\n",
    "- Sammendrag\n",
    "- År"
   ]
  },
  {
   "cell_type": "markdown",
   "id": "7990bce4-7385-4c43-bb52-b6418bc3ec69",
   "metadata": {},
   "source": [
    "Vi samler denne informasjonen i en dataframe for enklere og raskere prosessering.\n",
    "Vi bruker `polars` som et raskere og mer moderne alternativ til `pandas` selv om det har lite å bety i denne sammenheng\n",
    "siden datasettet er så lite.\n",
    "\n",
    "Først henter vi filmsjangernavn fra API-et og bruker disse istedet for filmsjanger-ID'er.\n",
    "\n",
    "Deretter samler vi informasjonen vi ønsker å bruke til å sammenligne i en kolonne (\"text\") - nemlig  tittel, år, sammendrag og sjangere."
   ]
  },
  {
   "cell_type": "code",
   "execution_count": 8,
   "id": "0310eb1c-a448-461a-9be1-008a98bca627",
   "metadata": {},
   "outputs": [
    {
     "data": {
      "text/plain": [
       "\u001b[1;31mSignature:\u001b[0m \u001b[0mget_id_to_genre\u001b[0m\u001b[1;33m.\u001b[0m\u001b[0m__wrapped__\u001b[0m\u001b[1;33m(\u001b[0m\u001b[1;33m)\u001b[0m \u001b[1;33m->\u001b[0m \u001b[0mdict\u001b[0m\u001b[1;33m[\u001b[0m\u001b[0mint\u001b[0m\u001b[1;33m,\u001b[0m \u001b[0mstr\u001b[0m\u001b[1;33m]\u001b[0m\u001b[1;33m\u001b[0m\u001b[1;33m\u001b[0m\u001b[0m\n",
       "\u001b[1;31mSource:\u001b[0m   \n",
       "\u001b[1;33m@\u001b[0m\u001b[0mlru_cache\u001b[0m\u001b[1;33m\u001b[0m\n",
       "\u001b[1;33m\u001b[0m\u001b[1;32mdef\u001b[0m \u001b[0mget_id_to_genre\u001b[0m\u001b[1;33m(\u001b[0m\u001b[1;33m)\u001b[0m \u001b[1;33m->\u001b[0m \u001b[0mdict\u001b[0m\u001b[1;33m[\u001b[0m\u001b[0mint\u001b[0m\u001b[1;33m,\u001b[0m \u001b[0mstr\u001b[0m\u001b[1;33m]\u001b[0m\u001b[1;33m:\u001b[0m\u001b[1;33m\u001b[0m\n",
       "\u001b[1;33m\u001b[0m    \u001b[1;34m\"\"\"Return a mapping from genre id to genre name\"\"\"\u001b[0m\u001b[1;33m\u001b[0m\n",
       "\u001b[1;33m\u001b[0m    \u001b[1;31m# Fetch genre names\u001b[0m\u001b[1;33m\u001b[0m\n",
       "\u001b[1;33m\u001b[0m    \u001b[0murl\u001b[0m \u001b[1;33m=\u001b[0m \u001b[0mtmdb_url\u001b[0m \u001b[1;33m+\u001b[0m \u001b[1;34m\"/genre/movie/list\"\u001b[0m\u001b[1;33m\u001b[0m\n",
       "\u001b[1;33m\u001b[0m    \u001b[0mparams\u001b[0m \u001b[1;33m=\u001b[0m \u001b[1;33m{\u001b[0m\u001b[1;34m\"api_key\"\u001b[0m\u001b[1;33m:\u001b[0m \u001b[0mTMDB_API_KEY\u001b[0m\u001b[1;33m}\u001b[0m\u001b[1;33m\u001b[0m\n",
       "\u001b[1;33m\u001b[0m    \u001b[0mresponse\u001b[0m \u001b[1;33m=\u001b[0m \u001b[0mrequests\u001b[0m\u001b[1;33m.\u001b[0m\u001b[0mget\u001b[0m\u001b[1;33m(\u001b[0m\u001b[0murl\u001b[0m\u001b[1;33m,\u001b[0m \u001b[0mparams\u001b[0m\u001b[1;33m=\u001b[0m\u001b[0mparams\u001b[0m\u001b[1;33m)\u001b[0m\u001b[1;33m\u001b[0m\n",
       "\u001b[1;33m\u001b[0m    \u001b[0mresponse\u001b[0m\u001b[1;33m.\u001b[0m\u001b[0mraise_for_status\u001b[0m\u001b[1;33m(\u001b[0m\u001b[1;33m)\u001b[0m\u001b[1;33m\u001b[0m\n",
       "\u001b[1;33m\u001b[0m    \u001b[0mid_and_genre\u001b[0m \u001b[1;33m=\u001b[0m \u001b[0mresponse\u001b[0m\u001b[1;33m.\u001b[0m\u001b[0mjson\u001b[0m\u001b[1;33m(\u001b[0m\u001b[1;33m)\u001b[0m\u001b[1;33m[\u001b[0m\u001b[1;34m\"genres\"\u001b[0m\u001b[1;33m]\u001b[0m\u001b[1;33m\u001b[0m\n",
       "\u001b[1;33m\u001b[0m\u001b[1;33m\u001b[0m\n",
       "\u001b[1;33m\u001b[0m    \u001b[1;31m# Map genre ids to genre names\u001b[0m\u001b[1;33m\u001b[0m\n",
       "\u001b[1;33m\u001b[0m    \u001b[0mid_to_genre\u001b[0m \u001b[1;33m=\u001b[0m \u001b[1;33m{\u001b[0m\u001b[0mx\u001b[0m\u001b[1;33m[\u001b[0m\u001b[1;34m\"id\"\u001b[0m\u001b[1;33m]\u001b[0m\u001b[1;33m:\u001b[0m \u001b[0mx\u001b[0m\u001b[1;33m[\u001b[0m\u001b[1;34m\"name\"\u001b[0m\u001b[1;33m]\u001b[0m \u001b[1;32mfor\u001b[0m \u001b[0mx\u001b[0m \u001b[1;32min\u001b[0m \u001b[0mid_and_genre\u001b[0m\u001b[1;33m}\u001b[0m\u001b[1;33m\u001b[0m\n",
       "\u001b[1;33m\u001b[0m\u001b[1;33m\u001b[0m\n",
       "\u001b[1;33m\u001b[0m    \u001b[1;32mreturn\u001b[0m \u001b[0mid_to_genre\u001b[0m\u001b[1;33m\u001b[0m\u001b[1;33m\u001b[0m\u001b[0m\n",
       "\u001b[1;31mFile:\u001b[0m      ~/code/llm-movie-recommender/main.py\n",
       "\u001b[1;31mType:\u001b[0m      function"
      ]
     },
     "metadata": {},
     "output_type": "display_data"
    }
   ],
   "source": [
    "import polars as pl\n",
    "from functools import lru_cache\n",
    "\n",
    "??get_id_to_genre.__wrapped__"
   ]
  },
  {
   "cell_type": "code",
   "execution_count": 9,
   "id": "aead6b99-75f6-453a-91d9-32901cecfcef",
   "metadata": {},
   "outputs": [
    {
     "data": {
      "text/plain": [
       "\u001b[1;31mSignature:\u001b[0m \u001b[0mprep_movies\u001b[0m\u001b[1;33m(\u001b[0m\u001b[0mmovies\u001b[0m\u001b[1;33m:\u001b[0m \u001b[0mlist\u001b[0m\u001b[1;33m[\u001b[0m\u001b[0mdict\u001b[0m\u001b[1;33m]\u001b[0m\u001b[1;33m)\u001b[0m \u001b[1;33m->\u001b[0m \u001b[0mpolars\u001b[0m\u001b[1;33m.\u001b[0m\u001b[0mdataframe\u001b[0m\u001b[1;33m.\u001b[0m\u001b[0mframe\u001b[0m\u001b[1;33m.\u001b[0m\u001b[0mDataFrame\u001b[0m\u001b[1;33m\u001b[0m\u001b[1;33m\u001b[0m\u001b[0m\n",
       "\u001b[1;31mSource:\u001b[0m   \n",
       "\u001b[1;32mdef\u001b[0m \u001b[0mprep_movies\u001b[0m\u001b[1;33m(\u001b[0m\u001b[0mmovies\u001b[0m\u001b[1;33m:\u001b[0m \u001b[0mlist\u001b[0m\u001b[1;33m[\u001b[0m\u001b[0mdict\u001b[0m\u001b[1;33m]\u001b[0m\u001b[1;33m)\u001b[0m \u001b[1;33m->\u001b[0m \u001b[0mpl\u001b[0m\u001b[1;33m.\u001b[0m\u001b[0mDataFrame\u001b[0m\u001b[1;33m:\u001b[0m\u001b[1;33m\u001b[0m\n",
       "\u001b[1;33m\u001b[0m    \u001b[1;34m\"\"\"\u001b[0m\n",
       "\u001b[1;34m    Prepare movie data for embedding\u001b[0m\n",
       "\u001b[1;34m\u001b[0m\n",
       "\u001b[1;34m    Attributes\u001b[0m\n",
       "\u001b[1;34m    ----------\u001b[0m\n",
       "\u001b[1;34m    movies\u001b[0m\n",
       "\u001b[1;34m        List of movies\u001b[0m\n",
       "\u001b[1;34m\u001b[0m\n",
       "\u001b[1;34m    Returns\u001b[0m\n",
       "\u001b[1;34m    -------\u001b[0m\n",
       "\u001b[1;34m    polars.DataFrame\u001b[0m\n",
       "\u001b[1;34m    \"\"\"\u001b[0m\u001b[1;33m\u001b[0m\n",
       "\u001b[1;33m\u001b[0m    \u001b[1;31m# Create a Polars DataFrame from the movie data\u001b[0m\u001b[1;33m\u001b[0m\n",
       "\u001b[1;33m\u001b[0m    \u001b[0mdf\u001b[0m \u001b[1;33m=\u001b[0m \u001b[0mpl\u001b[0m\u001b[1;33m.\u001b[0m\u001b[0mDataFrame\u001b[0m\u001b[1;33m(\u001b[0m\u001b[0mmovies\u001b[0m\u001b[1;33m)\u001b[0m\u001b[1;33m\u001b[0m\n",
       "\u001b[1;33m\u001b[0m\u001b[1;33m\u001b[0m\n",
       "\u001b[1;33m\u001b[0m    \u001b[0mid_to_genre\u001b[0m \u001b[1;33m=\u001b[0m \u001b[0mget_id_to_genre\u001b[0m\u001b[1;33m(\u001b[0m\u001b[1;33m)\u001b[0m\u001b[1;33m\u001b[0m\n",
       "\u001b[1;33m\u001b[0m    \u001b[1;31m# Add genre names from genre ids\u001b[0m\u001b[1;33m\u001b[0m\n",
       "\u001b[1;33m\u001b[0m    \u001b[0mdf_genres\u001b[0m \u001b[1;33m=\u001b[0m \u001b[0mdf\u001b[0m\u001b[1;33m[\u001b[0m\u001b[1;34m\"genre_ids\"\u001b[0m\u001b[1;33m]\u001b[0m\u001b[1;33m.\u001b[0m\u001b[0mmap_elements\u001b[0m\u001b[1;33m(\u001b[0m\u001b[1;33m\u001b[0m\n",
       "\u001b[1;33m\u001b[0m        \u001b[1;32mlambda\u001b[0m \u001b[0mli\u001b[0m\u001b[1;33m:\u001b[0m \u001b[1;33m[\u001b[0m\u001b[0mid_to_genre\u001b[0m\u001b[1;33m[\u001b[0m\u001b[0mid_\u001b[0m\u001b[1;33m]\u001b[0m \u001b[1;32mfor\u001b[0m \u001b[0mid_\u001b[0m \u001b[1;32min\u001b[0m \u001b[0mli\u001b[0m\u001b[1;33m]\u001b[0m\u001b[1;33m,\u001b[0m \u001b[0mreturn_dtype\u001b[0m\u001b[1;33m=\u001b[0m\u001b[0mpl\u001b[0m\u001b[1;33m.\u001b[0m\u001b[0mList\u001b[0m\u001b[1;33m(\u001b[0m\u001b[0mpl\u001b[0m\u001b[1;33m.\u001b[0m\u001b[0mString\u001b[0m\u001b[1;33m)\u001b[0m\u001b[1;33m\u001b[0m\n",
       "\u001b[1;33m\u001b[0m    \u001b[1;33m)\u001b[0m\u001b[1;33m\u001b[0m\n",
       "\u001b[1;33m\u001b[0m    \u001b[0mdf\u001b[0m \u001b[1;33m=\u001b[0m \u001b[0mdf\u001b[0m\u001b[1;33m.\u001b[0m\u001b[0mwith_columns\u001b[0m\u001b[1;33m(\u001b[0m\u001b[0mdf_genres\u001b[0m\u001b[1;33m.\u001b[0m\u001b[0malias\u001b[0m\u001b[1;33m(\u001b[0m\u001b[1;34m\"genres\"\u001b[0m\u001b[1;33m)\u001b[0m\u001b[1;33m)\u001b[0m\u001b[1;33m\u001b[0m\n",
       "\u001b[1;33m\u001b[0m\u001b[1;33m\u001b[0m\n",
       "\u001b[1;33m\u001b[0m    \u001b[1;31m# Extract year from release date\u001b[0m\u001b[1;33m\u001b[0m\n",
       "\u001b[1;33m\u001b[0m    \u001b[0mdf\u001b[0m \u001b[1;33m=\u001b[0m \u001b[0mdf\u001b[0m\u001b[1;33m.\u001b[0m\u001b[0mwith_columns\u001b[0m\u001b[1;33m(\u001b[0m\u001b[0mdf\u001b[0m\u001b[1;33m[\u001b[0m\u001b[1;34m\"release_date\"\u001b[0m\u001b[1;33m]\u001b[0m\u001b[1;33m.\u001b[0m\u001b[0mstr\u001b[0m\u001b[1;33m.\u001b[0m\u001b[0mhead\u001b[0m\u001b[1;33m(\u001b[0m\u001b[1;36m4\u001b[0m\u001b[1;33m)\u001b[0m\u001b[1;33m.\u001b[0m\u001b[0malias\u001b[0m\u001b[1;33m(\u001b[0m\u001b[1;34m\"year\"\u001b[0m\u001b[1;33m)\u001b[0m\u001b[1;33m)\u001b[0m\u001b[1;33m\u001b[0m\n",
       "\u001b[1;33m\u001b[0m\u001b[1;33m\u001b[0m\n",
       "\u001b[1;33m\u001b[0m    \u001b[1;31m# Merge all information into a single text column\u001b[0m\u001b[1;33m\u001b[0m\n",
       "\u001b[1;33m\u001b[0m    \u001b[0mtext\u001b[0m \u001b[1;33m=\u001b[0m \u001b[1;33m(\u001b[0m\u001b[1;33m\u001b[0m\n",
       "\u001b[1;33m\u001b[0m        \u001b[1;34m\"Movie title: \"\u001b[0m\u001b[1;33m\u001b[0m\n",
       "\u001b[1;33m\u001b[0m        \u001b[1;33m+\u001b[0m \u001b[0mdf\u001b[0m\u001b[1;33m[\u001b[0m\u001b[1;34m\"title\"\u001b[0m\u001b[1;33m]\u001b[0m\u001b[1;33m\u001b[0m\n",
       "\u001b[1;33m\u001b[0m        \u001b[1;33m+\u001b[0m \u001b[1;34m\".\\nYear: \"\u001b[0m\u001b[1;33m\u001b[0m\n",
       "\u001b[1;33m\u001b[0m        \u001b[1;33m+\u001b[0m \u001b[0mdf\u001b[0m\u001b[1;33m[\u001b[0m\u001b[1;34m\"year\"\u001b[0m\u001b[1;33m]\u001b[0m\u001b[1;33m\u001b[0m\n",
       "\u001b[1;33m\u001b[0m        \u001b[1;33m+\u001b[0m \u001b[1;34m\".\\nOverview: \"\u001b[0m\u001b[1;33m\u001b[0m\n",
       "\u001b[1;33m\u001b[0m        \u001b[1;33m+\u001b[0m \u001b[0mdf\u001b[0m\u001b[1;33m[\u001b[0m\u001b[1;34m\"overview\"\u001b[0m\u001b[1;33m]\u001b[0m\u001b[1;33m\u001b[0m\n",
       "\u001b[1;33m\u001b[0m        \u001b[1;33m+\u001b[0m \u001b[1;34m\"\\nGenres: \"\u001b[0m\u001b[1;33m\u001b[0m\n",
       "\u001b[1;33m\u001b[0m        \u001b[1;33m+\u001b[0m \u001b[0mdf\u001b[0m\u001b[1;33m[\u001b[0m\u001b[1;34m\"genres\"\u001b[0m\u001b[1;33m]\u001b[0m\u001b[1;33m.\u001b[0m\u001b[0mlist\u001b[0m\u001b[1;33m.\u001b[0m\u001b[0mjoin\u001b[0m\u001b[1;33m(\u001b[0m\u001b[1;34m\", \"\u001b[0m\u001b[1;33m)\u001b[0m\u001b[1;33m\u001b[0m\n",
       "\u001b[1;33m\u001b[0m        \u001b[1;33m+\u001b[0m \u001b[1;34m\".\"\u001b[0m\u001b[1;33m\u001b[0m\n",
       "\u001b[1;33m\u001b[0m    \u001b[1;33m)\u001b[0m\u001b[1;33m\u001b[0m\n",
       "\u001b[1;33m\u001b[0m    \u001b[0mdf\u001b[0m \u001b[1;33m=\u001b[0m \u001b[0mdf\u001b[0m\u001b[1;33m.\u001b[0m\u001b[0mwith_columns\u001b[0m\u001b[1;33m(\u001b[0m\u001b[0mtext\u001b[0m\u001b[1;33m.\u001b[0m\u001b[0malias\u001b[0m\u001b[1;33m(\u001b[0m\u001b[1;34m\"text\"\u001b[0m\u001b[1;33m)\u001b[0m\u001b[1;33m)\u001b[0m\u001b[1;33m\u001b[0m\n",
       "\u001b[1;33m\u001b[0m\u001b[1;33m\u001b[0m\n",
       "\u001b[1;33m\u001b[0m    \u001b[1;31m# Drop unecessary columns\u001b[0m\u001b[1;33m\u001b[0m\n",
       "\u001b[1;33m\u001b[0m    \u001b[0mdf\u001b[0m \u001b[1;33m=\u001b[0m \u001b[0mdf\u001b[0m\u001b[1;33m[\u001b[0m\u001b[1;33m[\u001b[0m\u001b[1;34m\"id\"\u001b[0m\u001b[1;33m,\u001b[0m \u001b[1;34m\"title\"\u001b[0m\u001b[1;33m,\u001b[0m \u001b[1;34m\"year\"\u001b[0m\u001b[1;33m,\u001b[0m \u001b[1;34m\"overview\"\u001b[0m\u001b[1;33m,\u001b[0m \u001b[1;34m\"genres\"\u001b[0m\u001b[1;33m,\u001b[0m \u001b[1;34m\"text\"\u001b[0m\u001b[1;33m]\u001b[0m\u001b[1;33m]\u001b[0m\u001b[1;33m\u001b[0m\n",
       "\u001b[1;33m\u001b[0m\u001b[1;33m\u001b[0m\n",
       "\u001b[1;33m\u001b[0m    \u001b[1;31m# The API may sometimes yield duplicates. Keep only unique rows\u001b[0m\u001b[1;33m\u001b[0m\n",
       "\u001b[1;33m\u001b[0m    \u001b[0mdf\u001b[0m \u001b[1;33m=\u001b[0m \u001b[0mdf\u001b[0m\u001b[1;33m.\u001b[0m\u001b[0munique\u001b[0m\u001b[1;33m(\u001b[0m\u001b[0msubset\u001b[0m\u001b[1;33m=\u001b[0m\u001b[1;34m\"id\"\u001b[0m\u001b[1;33m,\u001b[0m \u001b[0mmaintain_order\u001b[0m\u001b[1;33m=\u001b[0m\u001b[1;32mTrue\u001b[0m\u001b[1;33m)\u001b[0m\u001b[1;33m\u001b[0m\n",
       "\u001b[1;33m\u001b[0m\u001b[1;33m\u001b[0m\n",
       "\u001b[1;33m\u001b[0m    \u001b[1;31m# The vector database expects IDs in string format\u001b[0m\u001b[1;33m\u001b[0m\n",
       "\u001b[1;33m\u001b[0m    \u001b[0mdf\u001b[0m \u001b[1;33m=\u001b[0m \u001b[0mdf\u001b[0m\u001b[1;33m.\u001b[0m\u001b[0mwith_columns\u001b[0m\u001b[1;33m(\u001b[0m\u001b[0mdf\u001b[0m\u001b[1;33m[\u001b[0m\u001b[1;34m\"id\"\u001b[0m\u001b[1;33m]\u001b[0m\u001b[1;33m.\u001b[0m\u001b[0mcast\u001b[0m\u001b[1;33m(\u001b[0m\u001b[0mstr\u001b[0m\u001b[1;33m)\u001b[0m\u001b[1;33m)\u001b[0m\u001b[1;33m\u001b[0m\n",
       "\u001b[1;33m\u001b[0m    \u001b[1;32mreturn\u001b[0m \u001b[0mdf\u001b[0m\u001b[1;33m\u001b[0m\u001b[1;33m\u001b[0m\u001b[0m\n",
       "\u001b[1;31mFile:\u001b[0m      ~/code/llm-movie-recommender/main.py\n",
       "\u001b[1;31mType:\u001b[0m      function"
      ]
     },
     "metadata": {},
     "output_type": "display_data"
    }
   ],
   "source": [
    "??prep_movies"
   ]
  },
  {
   "cell_type": "code",
   "execution_count": 10,
   "id": "95ec83f1-e238-41a4-8d16-202e842fdc51",
   "metadata": {},
   "outputs": [],
   "source": [
    "df = prep_movies(movies)"
   ]
  },
  {
   "cell_type": "markdown",
   "id": "d863350f-4954-4ac4-9c41-b54d80a73566",
   "metadata": {},
   "source": [
    "La oss se på innholdet til DataFramen"
   ]
  },
  {
   "cell_type": "code",
   "execution_count": 11,
   "id": "99241c25-16d9-4b9c-8ef1-4ee998647ff8",
   "metadata": {},
   "outputs": [
    {
     "data": {
      "text/plain": [
       "4188"
      ]
     },
     "execution_count": 11,
     "metadata": {},
     "output_type": "execute_result"
    }
   ],
   "source": [
    "len(df)"
   ]
  },
  {
   "cell_type": "code",
   "execution_count": 12,
   "id": "ecb7c373-01ed-46fa-a2fd-a1c461935d73",
   "metadata": {},
   "outputs": [
    {
     "data": {
      "text/html": [
       "<div><style>\n",
       ".dataframe > thead > tr,\n",
       ".dataframe > tbody > tr {\n",
       "  text-align: right;\n",
       "  white-space: pre-wrap;\n",
       "}\n",
       "</style>\n",
       "<small>shape: (1, 6)</small><table border=\"1\" class=\"dataframe\"><thead><tr><th>id</th><th>title</th><th>year</th><th>overview</th><th>genres</th><th>text</th></tr><tr><td>str</td><td>str</td><td>str</td><td>str</td><td>list[str]</td><td>str</td></tr></thead><tbody><tr><td>&quot;278&quot;</td><td>&quot;The Shawshank …</td><td>&quot;1994&quot;</td><td>&quot;Imprisoned in …</td><td>[&quot;Drama&quot;, &quot;Crime&quot;]</td><td>&quot;Movie title: T…</td></tr></tbody></table></div>"
      ],
      "text/plain": [
       "shape: (1, 6)\n",
       "┌─────┬───────────────┬──────┬───────────────────┬────────────────────┬────────────────────────────┐\n",
       "│ id  ┆ title         ┆ year ┆ overview          ┆ genres             ┆ text                       │\n",
       "│ --- ┆ ---           ┆ ---  ┆ ---               ┆ ---                ┆ ---                        │\n",
       "│ str ┆ str           ┆ str  ┆ str               ┆ list[str]          ┆ str                        │\n",
       "╞═════╪═══════════════╪══════╪═══════════════════╪════════════════════╪════════════════════════════╡\n",
       "│ 278 ┆ The Shawshank ┆ 1994 ┆ Imprisoned in the ┆ [\"Drama\", \"Crime\"] ┆ Movie title: The Shawshank │\n",
       "│     ┆ Redemption    ┆      ┆ 1940s for the …   ┆                    ┆ Redem…                     │\n",
       "└─────┴───────────────┴──────┴───────────────────┴────────────────────┴────────────────────────────┘"
      ]
     },
     "execution_count": 12,
     "metadata": {},
     "output_type": "execute_result"
    }
   ],
   "source": [
    "df.head(1)"
   ]
  },
  {
   "cell_type": "markdown",
   "id": "5ea33b0d-248a-4dab-af8a-c6f2f1a9f5b4",
   "metadata": {},
   "source": [
    "Dette gir følgende tekst for filmen. Det er denne teksten vi skal bruke i vektordatabasen til å finne lignende filmer."
   ]
  },
  {
   "cell_type": "code",
   "execution_count": 13,
   "id": "6b2c4172-3790-47d7-99cc-719da1a45b23",
   "metadata": {},
   "outputs": [
    {
     "name": "stdout",
     "output_type": "stream",
     "text": [
      "Movie title: The Shawshank Redemption.\n",
      "Year: 1994.\n",
      "Overview: Imprisoned in the 1940s for the double murder of his wife and her lover, upstanding banker Andy Dufresne begins a new life at the Shawshank prison, where he puts his accounting skills to work for an amoral warden. During his long stretch in prison, Dufresne comes to be admired by the other inmates -- including an older prisoner named Red -- for his integrity and unquenchable sense of hope.\n",
      "Genres: Drama, Crime.\n"
     ]
    }
   ],
   "source": [
    "print(df[0, \"text\"])"
   ]
  },
  {
   "cell_type": "markdown",
   "id": "656fb5d9-1973-4d1e-b73f-bdfecfbea437",
   "metadata": {},
   "source": [
    "Vi instansierer en vektordatabase som vi skal bruke til å finne liknende dokumenter. Her finnes det mange alternativer, og vi har valgt ChromaDB hvor vi kan velge en valgfri embedding-funksjon."
   ]
  },
  {
   "cell_type": "code",
   "execution_count": 14,
   "id": "14b9edeb-2fee-49c8-96ee-5ccbc6e64de1",
   "metadata": {
    "scrolled": true
   },
   "outputs": [
    {
     "name": "stderr",
     "output_type": "stream",
     "text": [
      "Anonymized telemetry enabled. See                     https://docs.trychroma.com/telemetry for more information.\n"
     ]
    }
   ],
   "source": [
    "import chromadb\n",
    "client = chromadb.Client()"
   ]
  },
  {
   "cell_type": "markdown",
   "id": "19223aa3-e933-42d6-a6ed-c90ed76db678",
   "metadata": {},
   "source": [
    "Lag en collection og legg til dokumenter.\n",
    "`chromadb` gjør all jobb  automatisk. Først tokeniseres dokumentteksten til tokens, før den blir embeddet av en innebygd språkmodell og deretter indeksert av databasen slik at den effektivt kan finne nærliggende naboer til dokumentet. Embeddingen fanger essensen av syntaktisk og semantisk mening til hele dokumentet.\n",
    "\n",
    "Det mulig å bruke en custom funksjon for å embedde dokumenter. Som standard brukes det en LM som heter `all-MiniLM-L6-v2` fra librariet Sentence Transformer. Dette er en språkmodell på 23 millioner paremetere trent på 1 milliard tokens (ord / sub-ord) som outputter 384 dimensionale vektorer. Til sammenligning er GPT-4 fra OpenAI 1.7 billioner paremetre og trent på 13 billioner tokens og har 3072 dimensionale setnings-vektorer.\n"
   ]
  },
  {
   "cell_type": "code",
   "execution_count": 15,
   "id": "cc890aca-7e78-4eff-a0a5-bd396ca5fac9",
   "metadata": {},
   "outputs": [],
   "source": [
    "title_collection = client.get_or_create_collection(\"movie_titles\")"
   ]
  },
  {
   "cell_type": "code",
   "execution_count": 16,
   "id": "b8cb5e6f-d898-416f-bfa3-26f2e1e653d2",
   "metadata": {},
   "outputs": [],
   "source": [
    "if not title_collection.count():\n",
    "    title_collection.add(documents=df[\"title\"].to_list(), ids=df[\"id\"].to_list())"
   ]
  },
  {
   "cell_type": "code",
   "execution_count": 32,
   "id": "f66516a0-f648-4a2a-bb1c-9b18c8a25f7c",
   "metadata": {},
   "outputs": [
    {
     "name": "stdout",
     "output_type": "stream",
     "text": [
      "384\n"
     ]
    }
   ],
   "source": [
    "embedding = title_collection.query(query_texts=[\"Star Wars\"], n_results=1, include=[\"embeddings\"])[\"embeddings\"]\n",
    "embedding = embedding[0][0]\n",
    "print(len(embedding))"
   ]
  },
  {
   "cell_type": "code",
   "execution_count": 33,
   "id": "6d76e103-eeec-4b7a-90df-b9dae9de0138",
   "metadata": {},
   "outputs": [
    {
     "name": "stdout",
     "output_type": "stream",
     "text": [
      "[-0.0732547789812088, 0.010070987045764923, -0.0035544871352612972, -0.013902664184570312, -0.04536248371005058, 0.010174545459449291, 0.06956266611814499, 0.029881272464990616, 0.0726681649684906, 0.04335178807377815]\n"
     ]
    }
   ],
   "source": [
    "print(embedding[:10])"
   ]
  },
  {
   "cell_type": "markdown",
   "id": "bee7e97c-8297-48a3-bb09-397e0828b752",
   "metadata": {},
   "source": [
    "Databasen tilbyr flere alternativer for å måle likheten mellom dokumenter. Likheten mellom to dokumenter er gitt av distansen mellom de to tilhørende vektor embeddingene. Som default bruker ChromaDB $L^2$ distanse, gitt av:\n",
    "\n",
    "$ d=∑_i(A_i - B_i)^2 $\n",
    "\n",
    "Hvor $A_i$ er index $i$ i vektor embeddingen til dokument $A$"
   ]
  },
  {
   "cell_type": "code",
   "execution_count": 17,
   "id": "089d61e6-f3cb-499f-9f91-df8714d54d58",
   "metadata": {},
   "outputs": [],
   "source": [
    "results = title_collection.query(query_texts=[\"Star Wars\"], n_results=20)"
   ]
  },
  {
   "cell_type": "code",
   "execution_count": 18,
   "id": "5d174531-90b8-4297-9373-a886e51b4200",
   "metadata": {},
   "outputs": [
    {
     "name": "stdout",
     "output_type": "stream",
     "text": [
      "[['Star Wars', 'Star Wars: The Last Jedi', 'Star Wars: The Force Awakens', 'Star Wars: The Clone Wars', 'Star Wars: The Rise of Skywalker', 'Star Wars: Episode I - The Phantom Menace', 'Starship Troopers', 'Rogue One: A Star Wars Story', 'Return of the Jedi', 'Empire of the Sun', 'Guardians of the Galaxy', 'Solo: A Star Wars Story', 'Star Trek', 'The Empire Strikes Back', 'Star Wars: Episode III - Revenge of the Sith', 'Interstellar', 'Guardians of the Galaxy Vol. 2', 'King Kong', 'King Kong', 'Star Wars: Episode II - Attack of the Clones']]\n"
     ]
    }
   ],
   "source": [
    "print(results[\"documents\"])"
   ]
  },
  {
   "cell_type": "markdown",
   "id": "858f7272-571d-4f82-a6af-3d678ef7803f",
   "metadata": {},
   "source": [
    "Språkmodellen har fanget god semantisk betydning kun utifra filmtittelen. \"Star Wars\" har høy likhet til \"Return of the Jedi\" da begge er Star Wars filmer men har svak syntaktisk likhet. Vi ser også at LMen henter ut andre Sci-Fi filmer som \"Star Trek\" og \"Interstellar\".\n",
    "\n",
    "For å demonstrere at LMen gir større likhet mellom dokumenter av lik semantisk betydning, legger vi til dokumentet \"Star Alliance\". I motsetning til tidligere dokumenter, er ikke dette en film, men navn på et selskap som er en en allianse av flyselskaper."
   ]
  },
  {
   "cell_type": "code",
   "execution_count": 19,
   "id": "71084c2f-4615-4ea3-895e-9864dfe981cc",
   "metadata": {},
   "outputs": [],
   "source": [
    "title_collection.add(documents=[\"Star Alliance\"], ids=[\"9999\"])"
   ]
  },
  {
   "cell_type": "code",
   "execution_count": 20,
   "id": "cefc2a30-b98a-4095-8adf-51dd79301d02",
   "metadata": {},
   "outputs": [],
   "source": [
    "results = title_collection.query(query_texts=[\"Star Wars\"], n_results=20)"
   ]
  },
  {
   "cell_type": "code",
   "execution_count": 21,
   "id": "2b1a8579-1e9b-4f9b-9093-3a3eebd327ba",
   "metadata": {},
   "outputs": [
    {
     "name": "stdout",
     "output_type": "stream",
     "text": [
      "[['Star Wars', 'Star Wars: The Last Jedi', 'Star Wars: The Force Awakens', 'Star Wars: The Clone Wars', 'Star Wars: The Rise of Skywalker', 'Star Wars: Episode I - The Phantom Menace', 'Starship Troopers', 'Rogue One: A Star Wars Story', 'Return of the Jedi', 'Empire of the Sun', 'Guardians of the Galaxy', 'Solo: A Star Wars Story', 'Star Trek', 'The Empire Strikes Back', 'Star Wars: Episode III - Revenge of the Sith', 'Star Alliance', 'Interstellar', 'Guardians of the Galaxy Vol. 2', 'King Kong', 'King Kong']]\n"
     ]
    }
   ],
   "source": [
    "print(results[\"documents\"])"
   ]
  },
  {
   "cell_type": "markdown",
   "id": "df83ba32-d56f-4549-89e1-760e38f66b44",
   "metadata": {},
   "source": [
    "Databasen gir relativt svak likhet mellom \"Star Wars\" og \"Star Alliance\" til tross for at de har høy syntaktisk likhet. "
   ]
  },
  {
   "cell_type": "markdown",
   "id": "856a23bd-d9b7-4fb3-84b4-6e2a5c7e6b47",
   "metadata": {},
   "source": [
    "La oss lage en collection som bruker hele filmbeskrivelsen"
   ]
  },
  {
   "cell_type": "code",
   "execution_count": 34,
   "id": "e18a3b11-383c-4439-b942-003ac39f3592",
   "metadata": {},
   "outputs": [],
   "source": [
    "collection = client.get_or_create_collection(\"movies\")\n",
    "if not collection.count():\n",
    "    collection.add(documents=df[\"text\"].to_list(), ids=df[\"id\"].to_list())"
   ]
  },
  {
   "cell_type": "code",
   "execution_count": 43,
   "id": "ce4a4d54-d04b-4dc6-a8ef-5de38e2ca30c",
   "metadata": {},
   "outputs": [],
   "source": [
    "results = collection.query(query_texts=[\"Back to the future\"], n_results=20)"
   ]
  },
  {
   "cell_type": "code",
   "execution_count": 44,
   "id": "46494070-bcd0-4bd5-8a16-ef47bc6a6777",
   "metadata": {},
   "outputs": [
    {
     "name": "stdout",
     "output_type": "stream",
     "text": [
      "Movie title: Back to the Future.\n",
      "Year: 1985.\n",
      "Overview: Eighties teenager Marty McFly is accidentally sent back in time to 1955, inadvertently disrupting his parents' first meeting and attracting his mother's romantic interest. Marty must repair the damage to history by rekindling his parents' romance and - with the help of his eccentric inventor friend Doc Brown - return to 1985.\n",
      "Genres: Adventure, Comedy, Science Fiction. \n",
      "\n",
      "Movie title: Back to the Future Part II.\n",
      "Year: 1989.\n",
      "Overview: Marty and Doc are at it again in this wacky sequel to the 1985 blockbuster as the time-traveling duo head to 2015 to nip some McFly family woes in the bud. But things go awry thanks to bully Biff Tannen and a pesky sports almanac. In a last-ditch attempt to set things straight, Marty finds himself bound for 1955 and face to face with his teenage parents -- again.\n",
      "Genres: Adventure, Comedy, Science Fiction. \n",
      "\n",
      "Movie title: Back to the Future Part III.\n",
      "Year: 1990.\n",
      "Overview: The final installment of the Back to the Future trilogy finds Marty digging the trusty DeLorean out of a mineshaft and looking for Doc in the Wild West of 1885. But when their time machine breaks down, the travelers are stranded in a land of spurs. More problems arise when Doc falls for pretty schoolteacher Clara Clayton, and Marty tangles with Buford Tannen.\n",
      "Genres: Adventure, Comedy, Science Fiction. \n",
      "\n",
      "Movie title: The Time Machine.\n",
      "Year: 2002.\n",
      "Overview: Hoping to alter the events of the past, a 19th century inventor instead travels 800,000 years into the future, where he finds mankind divided into two warring races.\n",
      "Genres: Science Fiction, Adventure, Action. \n",
      "\n",
      "Movie title: Project Almanac.\n",
      "Year: 2015.\n",
      "Overview: A group of teens discover secret plans of a time machine, and construct one. However, things start to get out of control.\n",
      "Genres: Science Fiction, Action, Fantasy. \n",
      "\n",
      "Movie title: The Adam Project.\n",
      "Year: 2022.\n",
      "Overview: After accidentally crash-landing in 2022, time-traveling fighter pilot Adam Reed teams up with his 12-year-old self on a mission to save the future.\n",
      "Genres: Adventure, Science Fiction. \n",
      "\n",
      "Movie title: The Way Back.\n",
      "Year: 2020.\n",
      "Overview: A former basketball all-star, who has lost his wife and family foundation in a struggle with addiction, attempts to regain his soul and salvation by becoming the coach of a disparate ethnically mixed high school basketball team at his alma mater.\n",
      "Genres: Drama. \n",
      "\n",
      "Movie title: About Time.\n",
      "Year: 2013.\n",
      "Overview: The night after another unsatisfactory New Year's party, Tim's father tells his son that the men in his family have always had the ability to travel through time. They can't change history, but they can change what happens and has happened in their own lives. Thus begins the start of a lesson in learning to appreciate life itself as it is, as it comes, and most importantly, the people living alongside us.\n",
      "Genres: Drama, Romance, Fantasy. \n",
      "\n",
      "Movie title: In Time.\n",
      "Year: 2011.\n",
      "Overview: In the not-too-distant future, the aging gene has been switched off. To avoid overpopulation, time has become the currency and the way people pay for luxuries and necessities. The rich can live forever, while the rest try to negotiate for their immortality. A poor young man who comes into a fortune of time is too late to help his mother from dying. He ends up on the run from a corrupt police force known as the \"time keepers\".\n",
      "Genres: Action, Thriller, Science Fiction. \n",
      "\n",
      "Movie title: The Way Back.\n",
      "Year: 2010.\n",
      "Overview: At the dawn of WWII, several men escape from a Russian gulag—to take a perilous and uncertain journey to freedom as they cross deserts, mountains and several nations.\n",
      "Genres: Drama, Adventure, History. \n",
      "\n",
      "Movie title: Independence Day: Resurgence.\n",
      "Year: 2016.\n",
      "Overview: We always knew they were coming back. Using recovered alien technology, the nations of Earth have collaborated on an immense defense program to protect the planet. But nothing can prepare us for the aliens’ advanced and unprecedented force. Only the ingenuity of a few brave men and women can bring our world back from the brink of extinction.\n",
      "Genres: Action, Adventure, Science Fiction. \n",
      "\n",
      "Movie title: The Flash.\n",
      "Year: 2023.\n",
      "Overview: When his attempt to save his family inadvertently alters the future, Barry Allen becomes trapped in a reality in which General Zod has returned and there are no Super Heroes to turn to. In order to save the world that he is in and return to the future that he knows, Barry's only hope is to race for his life. But will making the ultimate sacrifice be enough to reset the universe?\n",
      "Genres: Action, Adventure, Science Fiction. \n",
      "\n",
      "Movie title: Tomorrowland.\n",
      "Year: 2015.\n",
      "Overview: Bound by a shared destiny, a bright, optimistic teen bursting with scientific curiosity and a former boy-genius inventor jaded by disillusionment embark on a danger-filled mission to unearth the secrets of an enigmatic place somewhere in time and space that exists in their collective memory as \"Tomorrowland.\"\n",
      "Genres: Adventure, Family, Mystery, Science Fiction. \n",
      "\n",
      "Movie title: The Circle.\n",
      "Year: 2017.\n",
      "Overview: A young tech worker takes a job at a powerful Internet corporation, quickly rises up the company's ranks, and soon finds herself in a perilous situation concerning privacy, surveillance and freedom. She comes to learn that her decisions and actions will determine the future of humanity.\n",
      "Genres: Drama, Thriller, Science Fiction. \n",
      "\n",
      "Movie title: Definitely, Maybe.\n",
      "Year: 2008.\n",
      "Overview: When Will decides to tell his daughter the story of how he met her mother, he discovers that a second look at the past might also give him a second chance at the future.\n",
      "Genres: Comedy, Romance. \n",
      "\n",
      "Movie title: The Tomorrow War.\n",
      "Year: 2021.\n",
      "Overview: The world is stunned when a group of time travelers arrive from the year 2051 to deliver an urgent message: Thirty years in the future, mankind is losing a global war against a deadly alien species. The only hope for survival is for soldiers and civilians from the present to be transported to the future and join the fight. Among those recruited is high school teacher and family man Dan Forester. Determined to save the world for his young daughter, Dan teams up with a brilliant scientist and his estranged father in a desperate quest to rewrite the fate of the planet.\n",
      "Genres: Action, Science Fiction, Adventure. \n",
      "\n",
      "Movie title: Look Who's Back.\n",
      "Year: 2015.\n",
      "Overview: When Adolf Hitler reawakens at the site of his former bunker in present-day Berlin, he is mistaken for a comedian and quickly becomes a media phenomenon.\n",
      "Genres: Comedy. \n",
      "\n",
      "Movie title: The Adjustment Bureau.\n",
      "Year: 2011.\n",
      "Overview: A man glimpses the future Fate has planned for him – and chooses to fight for his own destiny. Battling the powerful Adjustment Bureau across, under and through the streets of New York, he risks his destined greatness to be with the only woman he's ever loved.\n",
      "Genres: Science Fiction, Thriller, Romance. \n",
      "\n",
      "Movie title: Knowing.\n",
      "Year: 2009.\n",
      "Overview: A teacher opens a time capsule that has been dug up at his son's elementary school; in it are some chilling predictions -- some that have already occurred and others that are about to -- that lead him to believe his family plays a role in the events that are about to unfold.\n",
      "Genres: Action, Mystery, Science Fiction, Thriller. \n",
      "\n",
      "Movie title: Timeline.\n",
      "Year: 2003.\n",
      "Overview: A group of archaeological students become trapped in the past when they go there to retrieve their professor. The group must survive in 14th century France long enough to be rescued.\n",
      "Genres: Action, Adventure, Science Fiction. \n",
      "\n"
     ]
    }
   ],
   "source": [
    "for d in results[\"documents\"][0]: print(d, '\\n')"
   ]
  },
  {
   "cell_type": "markdown",
   "id": "50892ed2-c4bd-4826-868c-79d65aaa1506",
   "metadata": {},
   "source": [
    "De aller fleste anbefalingene treffer ganske bra. De fleste dreier seg om reise i tid eller tidsmaskiner, self om det er noen anbefalinger som ikke virker til å være relevant og som antageligvis har blitt inkludert på grunn av øvrig syntaktisk likhet. Dette kan en håpe forbedrer seg med en større språkmodell hvor en større andel av embeddingen fanger semtantisk informasjon kontra syntaktisk informasjon."
   ]
  },
  {
   "cell_type": "markdown",
   "id": "16628cba-f439-4ada-85a6-283c724a0448",
   "metadata": {},
   "source": [
    "forklar kontrastiv læring"
   ]
  }
 ],
 "metadata": {
  "jupytext": {
   "formats": "ipynb,py:percent"
  },
  "kernelspec": {
   "display_name": "Python 3 (ipykernel)",
   "language": "python",
   "name": "python3"
  },
  "language_info": {
   "codemirror_mode": {
    "name": "ipython",
    "version": 3
   },
   "file_extension": ".py",
   "mimetype": "text/x-python",
   "name": "python",
   "nbconvert_exporter": "python",
   "pygments_lexer": "ipython3",
   "version": "3.12.3"
  }
 },
 "nbformat": 4,
 "nbformat_minor": 5
}
